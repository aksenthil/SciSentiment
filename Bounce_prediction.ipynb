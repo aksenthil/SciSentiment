{
 "cells": [
  {
   "cell_type": "code",
   "execution_count": 2,
   "metadata": {},
   "outputs": [],
   "source": [
    "import pandas as pd\n",
    "import numpy as np\n",
    "from pandas import DataFrame\n",
    "import datetime\n",
    "import os\n",
    "import matplotlib.pyplot as plt\n",
    "import cx_Oracle\n",
    "os.chdir(\"E:\\oracle_python\\instantclient\\instantclient_18_3\")\n",
    "connection = cx_Oracle.connect(\"rptusr\", \"Rptusr#1608\", \"10.9.48.13:1555/rptdb\")"
   ]
  },
  {
   "cell_type": "code",
   "execution_count": null,
   "metadata": {},
   "outputs": [],
   "source": [
    "# bounce_data=pd.read_csv(\"D:/HE_Bounce_prediction/Bounce_input.csv\")\n",
    "bounce_data=pd.read_csv(\"D:/HE_Bounce_prediction/HE Bounce - Apr16 to Jun19/Bounce_input.csv\")"
   ]
  },
  {
   "cell_type": "code",
   "execution_count": null,
   "metadata": {},
   "outputs": [],
   "source": [
    "pd.set_option(\"display.max_columns\", None)\n",
    "pd.set_option(\"display.max_rows\", None)"
   ]
  },
  {
   "cell_type": "code",
   "execution_count": null,
   "metadata": {},
   "outputs": [],
   "source": [
    "# cust=bounce_data.dropna(thresh=2) "
   ]
  },
  {
   "cell_type": "code",
   "execution_count": null,
   "metadata": {
    "scrolled": true
   },
   "outputs": [],
   "source": [
    "# bounce= pd.read_csv(\"D:/HE_Bounce_prediction/new/bounce_data.csv\")"
   ]
  },
  {
   "cell_type": "code",
   "execution_count": null,
   "metadata": {},
   "outputs": [],
   "source": [
    "bounce_data.head()"
   ]
  },
  {
   "cell_type": "code",
   "execution_count": null,
   "metadata": {
    "scrolled": false
   },
   "outputs": [],
   "source": [
    "# bounce_data.describe()"
   ]
  },
  {
   "cell_type": "code",
   "execution_count": null,
   "metadata": {},
   "outputs": [],
   "source": [
    "# for column in ['race', 'goal', 'date', 'go_out', 'career_c']:\n",
    "#     df[column].fillna(df[column].mode()[0], inplace=True)"
   ]
  },
  {
   "cell_type": "code",
   "execution_count": null,
   "metadata": {},
   "outputs": [],
   "source": [
    "Ac=bounce_data[bounce_data['STATUS'] <= 'A']"
   ]
  },
  {
   "cell_type": "code",
   "execution_count": null,
   "metadata": {},
   "outputs": [],
   "source": [
    "Ac['QUALIFICATION']=np.where((Ac['QUALIFICATION'] =='GRAD') | (Ac['QUALIFICATION'] =='ENG') | (Ac['QUALIFICATION'] =='CSE'), 'UG', Ac['QUALIFICATION'])\n",
    "Ac['QUALIFICATION']=np.where(Ac['QUALIFICATION'] =='DOC', 'DOCTRATE', Ac['QUALIFICATION'])"
   ]
  },
  {
   "cell_type": "code",
   "execution_count": null,
   "metadata": {},
   "outputs": [],
   "source": [
    "Ac['MARITAL_STATUS'] = Ac['MARITAL_STATUS'].fillna(Ac['MARITAL_STATUS'].mode()[0])\n",
    "Ac['AGE'] = Ac['AGE'].fillna(Ac['AGE'].mode()[0])\n",
    "Ac['SEX'] = Ac['SEX'].fillna(Ac['SEX'].mode()[0])\n",
    "Ac['QUALIFICATION'] = Ac['QUALIFICATION'].fillna(Ac['QUALIFICATION'].mode()[0])\n",
    "Ac['CIBILTUSC2_SCORE'] = Ac['CIBILTUSC2_SCORE'].fillna(Ac['CIBILTUSC2_SCORE'].mean())"
   ]
  },
  {
   "cell_type": "code",
   "execution_count": null,
   "metadata": {},
   "outputs": [],
   "source": [
    "# cust = pd.read_sql(\"select ag.agreementno, ag.proposalid, ag.status, ag.productflag, cu.* from finlen.lea_agreement_dtl ag join finlen.nbfc_customer_m cu on cu.customerid=ag.lesseeid where ag.productflag='HE'\",con=connection)"
   ]
  },
  {
   "cell_type": "code",
   "execution_count": null,
   "metadata": {},
   "outputs": [],
   "source": [
    "# Ac.select_dtypes(include=['object']).copy()"
   ]
  },
  {
   "cell_type": "code",
   "execution_count": null,
   "metadata": {},
   "outputs": [],
   "source": [
    "cat_df_flights = Ac"
   ]
  },
  {
   "cell_type": "code",
   "execution_count": null,
   "metadata": {},
   "outputs": [],
   "source": [
    "var1=Ac.iloc[:, 0:14] "
   ]
  },
  {
   "cell_type": "code",
   "execution_count": null,
   "metadata": {},
   "outputs": [],
   "source": [
    "var1.head()"
   ]
  },
  {
   "cell_type": "code",
   "execution_count": null,
   "metadata": {},
   "outputs": [],
   "source": [
    "cols = [0,1,2,3,4,5,6,7,8,9,10,11,12,13]\n",
    "cat_df_flights.drop(cat_df_flights.columns[cols],axis=1,inplace=True)"
   ]
  },
  {
   "cell_type": "code",
   "execution_count": null,
   "metadata": {
    "scrolled": true
   },
   "outputs": [],
   "source": [
    "cat_df_flights.head()"
   ]
  },
  {
   "cell_type": "code",
   "execution_count": null,
   "metadata": {},
   "outputs": [],
   "source": [
    "cat_df_flights['class'] = cat_df_flights.max(axis=1)"
   ]
  },
  {
   "cell_type": "code",
   "execution_count": null,
   "metadata": {
    "scrolled": true
   },
   "outputs": [],
   "source": [
    "# print(cat_df_flights.isnull().values.sum())"
   ]
  },
  {
   "cell_type": "code",
   "execution_count": null,
   "metadata": {},
   "outputs": [],
   "source": [
    "# print(Ac.select_dtypes(include=['object']).copy())"
   ]
  },
  {
   "cell_type": "code",
   "execution_count": null,
   "metadata": {},
   "outputs": [],
   "source": [
    "# print(Ac.isnull().sum())"
   ]
  },
  {
   "cell_type": "code",
   "execution_count": null,
   "metadata": {},
   "outputs": [],
   "source": [
    "# Ac['MARITAL_STATUS']=Ac['MARITAL_STATUS'].fillna(Ac['MARITAL_STATUS'].value_counts().index[0])"
   ]
  },
  {
   "cell_type": "code",
   "execution_count": null,
   "metadata": {},
   "outputs": [],
   "source": [
    "# train['class'].value_counts().index[0]"
   ]
  },
  {
   "cell_type": "code",
   "execution_count": null,
   "metadata": {},
   "outputs": [],
   "source": [
    "print(train['class'].value_counts())"
   ]
  },
  {
   "cell_type": "code",
   "execution_count": null,
   "metadata": {},
   "outputs": [],
   "source": [
    "# print(Ac['QUALIFICATION'].value_counts().count())"
   ]
  },
  {
   "cell_type": "code",
   "execution_count": null,
   "metadata": {
    "scrolled": true
   },
   "outputs": [],
   "source": [
    "%matplotlib inline\n",
    "import seaborn as sns\n",
    "import matplotlib.pyplot as plt\n",
    "MARITAL_STATUS_count = Ac['QUALIFICATION'].value_counts()\n",
    "sns.set(style=\"darkgrid\")\n",
    "sns.barplot(MARITAL_STATUS_count.index, MARITAL_STATUS_count.values, alpha=0.9)\n",
    "plt.title('Frequency Distribution of MARITAL_STATUS')\n",
    "plt.ylabel('Number of Occurrences', fontsize=12)\n",
    "plt.xlabel('MARITAL_STATUS', fontsize=12)\n",
    "plt.show()\n"
   ]
  },
  {
   "cell_type": "code",
   "execution_count": null,
   "metadata": {
    "scrolled": false
   },
   "outputs": [],
   "source": [
    "labels = Ac['QUALIFICATION'].astype('category').cat.categories.tolist()\n",
    "counts = Ac['QUALIFICATION'].value_counts()\n",
    "sizes = [counts[var_cat] for var_cat in labels]\n",
    "fig1, ax1 = plt.subplots()\n",
    "ax1.pie(sizes, labels=labels, autopct='%1.1f%%', shadow=True) #autopct is show the % on plot\n",
    "ax1.axis('equal')\n",
    "plt.show()"
   ]
  },
  {
   "cell_type": "code",
   "execution_count": null,
   "metadata": {},
   "outputs": [],
   "source": [
    "df4=pd.concat([var1, cat_df_flights['class']], axis=1)"
   ]
  },
  {
   "cell_type": "code",
   "execution_count": null,
   "metadata": {},
   "outputs": [],
   "source": [
    "df4.head()"
   ]
  },
  {
   "cell_type": "code",
   "execution_count": null,
   "metadata": {},
   "outputs": [],
   "source": [
    "# cust=cust.dropna(subset=['AGREEMENTNO']) \n"
   ]
  },
  {
   "cell_type": "code",
   "execution_count": null,
   "metadata": {},
   "outputs": [],
   "source": [
    "# cibil= pd.read_sql(\"select * from HE_SEC_CIBIL_JUN19\",con=connection)"
   ]
  },
  {
   "cell_type": "code",
   "execution_count": null,
   "metadata": {},
   "outputs": [],
   "source": [
    "# HE_cust = cust[['AGREEMENTNO','PROPOSALID','STATUS','PRODUCTFLAG','CUSTOMERID','CUSTOMERNAME','CONSTID','AGE','INDV_CORP_FLAG','CUST_RATING','BRANCHID','FNAME','DOB','SEX','MARITAL_STATUS','QUALIFICATION','INCOME_SOURCE','PROFESSIONCODE','TITLE','MC_STATUS','MAKERID','MAKERDATE','AUTHID','AUTHDATE','ACCOTYPE','ACCOCATG','CIF_NO','DATELASTUPDT','CREDIT_FLAG','MINOR','MAS_CODE','CHOLA_GROUPID','UCIC']]"
   ]
  },
  {
   "cell_type": "code",
   "execution_count": null,
   "metadata": {},
   "outputs": [],
   "source": [
    "train['class'].value_counts().count()"
   ]
  },
  {
   "cell_type": "code",
   "execution_count": null,
   "metadata": {},
   "outputs": [],
   "source": [
    "# Ac.BANKNAME.value_counts().count()"
   ]
  },
  {
   "cell_type": "code",
   "execution_count": null,
   "metadata": {},
   "outputs": [],
   "source": [
    "# df4.ACCOTYPE.unique()"
   ]
  },
  {
   "cell_type": "code",
   "execution_count": null,
   "metadata": {},
   "outputs": [],
   "source": [
    "df4.head()"
   ]
  },
  {
   "cell_type": "code",
   "execution_count": null,
   "metadata": {},
   "outputs": [],
   "source": [
    "cat_vars=['MARITAL_STATUS','SEX','QUALIFICATION','ACCOTYPE','AGREEMENTNO','BANKNAME','STATUS']\n",
    "for var in cat_vars:\n",
    "    cat_list='var'+'_'+var\n",
    "    cat_list = pd.get_dummies(df4[var], prefix=var)\n",
    "    data1=df4.join(cat_list)\n",
    "    data=data1\n",
    "cat_vars=['MARITAL_STATUS','SEX','QUALIFICATION','ACCOTYPE','AGREEMENTNO','BANKNAME','STATUS']\n",
    "data_vars=df4.columns.values.tolist()\n",
    "to_keep=[i for i in data_vars if i not in cat_vars]"
   ]
  },
  {
   "cell_type": "code",
   "execution_count": null,
   "metadata": {},
   "outputs": [],
   "source": [
    "data_final=data[to_keep]\n",
    "data_final.columns.values"
   ]
  },
  {
   "cell_type": "code",
   "execution_count": null,
   "metadata": {},
   "outputs": [],
   "source": [
    " HE_cust = df4[['AGE','AMTFIN','EFFRATE','LOWESTTECHVALUE','class']]"
   ]
  },
  {
   "cell_type": "code",
   "execution_count": null,
   "metadata": {
    "scrolled": false
   },
   "outputs": [],
   "source": [
    "train.head()"
   ]
  },
  {
   "cell_type": "code",
   "execution_count": 3,
   "metadata": {},
   "outputs": [],
   "source": [
    "df4=pd.read_csv(\"D:/HE_Bounce_prediction/HE Bounce - Apr16 to Jun19/iee_data.csv\")\n",
    "# df4.to_csv(\"D:/HE_Bounce_prediction/HE Bounce - Apr16 to Jun19/iee_data.csv\")"
   ]
  },
  {
   "cell_type": "code",
   "execution_count": 13,
   "metadata": {
    "scrolled": true
   },
   "outputs": [
    {
     "name": "stdout",
     "output_type": "stream",
     "text": [
      "TENURE              0\n",
      "EMI                 0\n",
      "AGE                 0\n",
      "MARITAL_STATUS      0\n",
      "SEX                 0\n",
      "QUALIFICATION       0\n",
      "ASSETCOST           0\n",
      "AMTFIN              0\n",
      "EFFRATE             0\n",
      "LOWESTTECHVALUE     0\n",
      "HIGHESTTECHVALUE    0\n",
      "CIBILTUSC2_SCORE    0\n",
      "class               0\n",
      "dtype: int64\n"
     ]
    }
   ],
   "source": [
    " print(df4.isnull().sum())"
   ]
  },
  {
   "cell_type": "code",
   "execution_count": null,
   "metadata": {
    "scrolled": false
   },
   "outputs": [],
   "source": [
    "# df4['MARITAL_STATUS'] = df4['MARITAL_STATUS'].fillna(df4['MARITAL_STATUS'].mode()[0])\n",
    "# df4['SEX'] = df4['SEX'].fillna(df4['SEX'].mode()[0])\n",
    "# df4['QUALIFICATION'] = df4['QUALIFICATION'].fillna(df4['QUALIFICATION'].mode()[0])\n",
    "# df4['CIBILTUSC2_SCORE'] = df4['CIBILTUSC2_SCORE'].fillna(df4['CIBILTUSC2_SCORE'].mean())\n",
    "# df4['AGE'] = df4['AGE'].fillna(df4['AGE'].mode()[0])"
   ]
  },
  {
   "cell_type": "code",
   "execution_count": 4,
   "metadata": {},
   "outputs": [],
   "source": [
    "SEX = pd.get_dummies(df4['SEX'],drop_first=True)\n",
    "MARITAL_STATUS = pd.get_dummies(df4['MARITAL_STATUS'],drop_first=True)\n",
    "QUALIFICATION =pd.get_dummies(df4['QUALIFICATION'],drop_first=True)\n",
    "# ACCOTYPE =pd.get_dummies(df4['ACCOTYPE'],drop_first=True)"
   ]
  },
  {
   "cell_type": "code",
   "execution_count": 5,
   "metadata": {},
   "outputs": [],
   "source": [
    "df4.drop(['AGREEMENTNO','BANKNAME','STATUS','ACCOTYPE'],axis=1,inplace=True)\n"
   ]
  },
  {
   "cell_type": "code",
   "execution_count": null,
   "metadata": {},
   "outputs": [],
   "source": [
    "#  HE_cust = train1[['OTHERS','POSTGRAD','UG','AGE','AMTFIN','EFFRATE','LOWESTTECHVALUE','class']]"
   ]
  },
  {
   "cell_type": "code",
   "execution_count": 6,
   "metadata": {},
   "outputs": [],
   "source": [
    "train = pd.concat([SEX,MARITAL_STATUS,QUALIFICATION,df4],axis=1)"
   ]
  },
  {
   "cell_type": "code",
   "execution_count": 7,
   "metadata": {},
   "outputs": [],
   "source": [
    "train.drop(['SEX','MARITAL_STATUS','QUALIFICATION'],axis=1,inplace=True)\n"
   ]
  },
  {
   "cell_type": "code",
   "execution_count": 30,
   "metadata": {},
   "outputs": [
    {
     "data": {
      "text/html": [
       "<div>\n",
       "<style scoped>\n",
       "    .dataframe tbody tr th:only-of-type {\n",
       "        vertical-align: middle;\n",
       "    }\n",
       "\n",
       "    .dataframe tbody tr th {\n",
       "        vertical-align: top;\n",
       "    }\n",
       "\n",
       "    .dataframe thead th {\n",
       "        text-align: right;\n",
       "    }\n",
       "</style>\n",
       "<table border=\"1\" class=\"dataframe\">\n",
       "  <thead>\n",
       "    <tr style=\"text-align: right;\">\n",
       "      <th></th>\n",
       "      <th>M</th>\n",
       "      <th>S</th>\n",
       "      <th>OTHERS</th>\n",
       "      <th>POSTGRAD</th>\n",
       "      <th>UG</th>\n",
       "      <th>TENURE</th>\n",
       "      <th>EMI</th>\n",
       "      <th>AGE</th>\n",
       "      <th>ASSETCOST</th>\n",
       "      <th>AMTFIN</th>\n",
       "      <th>EFFRATE</th>\n",
       "      <th>LOWESTTECHVALUE</th>\n",
       "      <th>HIGHESTTECHVALUE</th>\n",
       "      <th>CIBILTUSC2_SCORE</th>\n",
       "      <th>class</th>\n",
       "    </tr>\n",
       "  </thead>\n",
       "  <tbody>\n",
       "    <tr>\n",
       "      <th>0</th>\n",
       "      <td>1</td>\n",
       "      <td>0</td>\n",
       "      <td>0</td>\n",
       "      <td>0</td>\n",
       "      <td>1</td>\n",
       "      <td>180</td>\n",
       "      <td>19</td>\n",
       "      <td>56</td>\n",
       "      <td>6800000</td>\n",
       "      <td>6800000</td>\n",
       "      <td>11.0</td>\n",
       "      <td>11400000</td>\n",
       "      <td>16483500</td>\n",
       "      <td>758.0</td>\n",
       "      <td>0</td>\n",
       "    </tr>\n",
       "    <tr>\n",
       "      <th>1</th>\n",
       "      <td>1</td>\n",
       "      <td>0</td>\n",
       "      <td>0</td>\n",
       "      <td>0</td>\n",
       "      <td>1</td>\n",
       "      <td>180</td>\n",
       "      <td>1075</td>\n",
       "      <td>49</td>\n",
       "      <td>100000</td>\n",
       "      <td>100000</td>\n",
       "      <td>10.0</td>\n",
       "      <td>45700000</td>\n",
       "      <td>46017250</td>\n",
       "      <td>734.0</td>\n",
       "      <td>0</td>\n",
       "    </tr>\n",
       "    <tr>\n",
       "      <th>2</th>\n",
       "      <td>1</td>\n",
       "      <td>0</td>\n",
       "      <td>0</td>\n",
       "      <td>0</td>\n",
       "      <td>1</td>\n",
       "      <td>180</td>\n",
       "      <td>1099</td>\n",
       "      <td>52</td>\n",
       "      <td>100000</td>\n",
       "      <td>100000</td>\n",
       "      <td>10.4</td>\n",
       "      <td>18894000</td>\n",
       "      <td>21839500</td>\n",
       "      <td>801.0</td>\n",
       "      <td>0</td>\n",
       "    </tr>\n",
       "    <tr>\n",
       "      <th>3</th>\n",
       "      <td>0</td>\n",
       "      <td>0</td>\n",
       "      <td>0</td>\n",
       "      <td>0</td>\n",
       "      <td>1</td>\n",
       "      <td>180</td>\n",
       "      <td>1105</td>\n",
       "      <td>50</td>\n",
       "      <td>100000</td>\n",
       "      <td>100000</td>\n",
       "      <td>10.5</td>\n",
       "      <td>5830000</td>\n",
       "      <td>6996000</td>\n",
       "      <td>689.0</td>\n",
       "      <td>1</td>\n",
       "    </tr>\n",
       "    <tr>\n",
       "      <th>4</th>\n",
       "      <td>0</td>\n",
       "      <td>0</td>\n",
       "      <td>0</td>\n",
       "      <td>0</td>\n",
       "      <td>1</td>\n",
       "      <td>180</td>\n",
       "      <td>1105</td>\n",
       "      <td>50</td>\n",
       "      <td>100000</td>\n",
       "      <td>100000</td>\n",
       "      <td>10.5</td>\n",
       "      <td>5830000</td>\n",
       "      <td>6996000</td>\n",
       "      <td>689.0</td>\n",
       "      <td>0</td>\n",
       "    </tr>\n",
       "  </tbody>\n",
       "</table>\n",
       "</div>"
      ],
      "text/plain": [
       "   M  S  OTHERS  POSTGRAD  UG  TENURE   EMI  AGE  ASSETCOST   AMTFIN  EFFRATE  \\\n",
       "0  1  0       0         0   1     180    19   56    6800000  6800000     11.0   \n",
       "1  1  0       0         0   1     180  1075   49     100000   100000     10.0   \n",
       "2  1  0       0         0   1     180  1099   52     100000   100000     10.4   \n",
       "3  0  0       0         0   1     180  1105   50     100000   100000     10.5   \n",
       "4  0  0       0         0   1     180  1105   50     100000   100000     10.5   \n",
       "\n",
       "   LOWESTTECHVALUE  HIGHESTTECHVALUE  CIBILTUSC2_SCORE  class  \n",
       "0         11400000          16483500             758.0      0  \n",
       "1         45700000          46017250             734.0      0  \n",
       "2         18894000          21839500             801.0      0  \n",
       "3          5830000           6996000             689.0      1  \n",
       "4          5830000           6996000             689.0      0  "
      ]
     },
     "execution_count": 30,
     "metadata": {},
     "output_type": "execute_result"
    }
   ],
   "source": [
    "train1.head()"
   ]
  },
  {
   "cell_type": "code",
   "execution_count": 10,
   "metadata": {},
   "outputs": [],
   "source": [
    "# HE_cust = train[['M','S','OTHERS','EMI','TENURE','POSTGRAD','UG','AGE','AMTFIN','EFFRATE','LOWESTTECHVALUE','class']]\n",
    "HE_cust = train[['EMI','TENURE','LOWESTTECHVALUE','class']]"
   ]
  },
  {
   "cell_type": "code",
   "execution_count": null,
   "metadata": {},
   "outputs": [],
   "source": [
    "train1.info()"
   ]
  },
  {
   "cell_type": "code",
   "execution_count": 11,
   "metadata": {},
   "outputs": [],
   "source": [
    "from sklearn import preprocessing\n",
    "def convert(data):\n",
    "    number = preprocessing.LabelEncoder()\n",
    "    data['M'] = number.fit_transform(data.M)\n",
    "    data['S'] = number.fit_transform(data.S)\n",
    "    data['OTHERS'] = number.fit_transform(data.OTHERS)\n",
    "    data['POSTGRAD'] = number.fit_transform(data.POSTGRAD)\n",
    "    data['UG'] = number.fit_transform(data.UG)\n",
    "    data=data.fillna(-999)\n",
    "    return data"
   ]
  },
  {
   "cell_type": "code",
   "execution_count": 15,
   "metadata": {},
   "outputs": [],
   "source": [
    "train1=convert(train)\n"
   ]
  },
  {
   "cell_type": "code",
   "execution_count": 33,
   "metadata": {},
   "outputs": [
    {
     "data": {
      "text/plain": [
       "(17600, 15)"
      ]
     },
     "execution_count": 33,
     "metadata": {},
     "output_type": "execute_result"
    }
   ],
   "source": [
    "train1.shape"
   ]
  },
  {
   "cell_type": "code",
   "execution_count": 39,
   "metadata": {
    "scrolled": true
   },
   "outputs": [
    {
     "data": {
      "image/png": "[encoded data removed]",
      "text/plain": [
       "<Figure size 432x288 with 2 Axes>"
      ]
     },
     "metadata": {},
     "output_type": "display_data"
    }
   ],
   "source": [
    "import seaborn as sns\n",
    "corr_back = train.corr()\n",
    "# Generate a mask for the upper right triangle of the square - one half is enough to convey the correlation \n",
    "## between the predictors\n",
    "mask = np.zeros_like(corr_back, dtype=np.bool)\n",
    "mask[np.triu_indices_from(mask)] = True\n",
    "\n",
    "# Generate the correlation plot \n",
    "sns.heatmap(corr_back, mask=mask, center=0, square=True, linewidths=.5)\n",
    "\n",
    "plt.show()"
   ]
  },
  {
   "cell_type": "code",
   "execution_count": 40,
   "metadata": {},
   "outputs": [
    {
     "data": {
      "text/html": [
       "<div>\n",
       "<style scoped>\n",
       "    .dataframe tbody tr th:only-of-type {\n",
       "        vertical-align: middle;\n",
       "    }\n",
       "\n",
       "    .dataframe tbody tr th {\n",
       "        vertical-align: top;\n",
       "    }\n",
       "\n",
       "    .dataframe thead th {\n",
       "        text-align: right;\n",
       "    }\n",
       "</style>\n",
       "<table border=\"1\" class=\"dataframe\">\n",
       "  <thead>\n",
       "    <tr style=\"text-align: right;\">\n",
       "      <th></th>\n",
       "      <th>M</th>\n",
       "      <th>S</th>\n",
       "      <th>OTHERS</th>\n",
       "      <th>POSTGRAD</th>\n",
       "      <th>UG</th>\n",
       "      <th>TENURE</th>\n",
       "      <th>EMI</th>\n",
       "      <th>AGE</th>\n",
       "      <th>ASSETCOST</th>\n",
       "      <th>AMTFIN</th>\n",
       "      <th>EFFRATE</th>\n",
       "      <th>LOWESTTECHVALUE</th>\n",
       "      <th>HIGHESTTECHVALUE</th>\n",
       "      <th>CIBILTUSC2_SCORE</th>\n",
       "      <th>class</th>\n",
       "    </tr>\n",
       "  </thead>\n",
       "  <tbody>\n",
       "    <tr>\n",
       "      <th>M</th>\n",
       "      <td>1.000000</td>\n",
       "      <td>0.075785</td>\n",
       "      <td>-0.020229</td>\n",
       "      <td>-0.012151</td>\n",
       "      <td>0.030215</td>\n",
       "      <td>0.025325</td>\n",
       "      <td>-0.004242</td>\n",
       "      <td>-0.044380</td>\n",
       "      <td>-0.000307</td>\n",
       "      <td>-0.000257</td>\n",
       "      <td>-0.031567</td>\n",
       "      <td>-0.011344</td>\n",
       "      <td>-0.009311</td>\n",
       "      <td>0.065638</td>\n",
       "      <td>-0.012374</td>\n",
       "    </tr>\n",
       "    <tr>\n",
       "      <th>S</th>\n",
       "      <td>0.075785</td>\n",
       "      <td>1.000000</td>\n",
       "      <td>0.000270</td>\n",
       "      <td>0.049095</td>\n",
       "      <td>-0.032180</td>\n",
       "      <td>0.011332</td>\n",
       "      <td>-0.028237</td>\n",
       "      <td>-0.280528</td>\n",
       "      <td>-0.027001</td>\n",
       "      <td>-0.027133</td>\n",
       "      <td>0.057523</td>\n",
       "      <td>-0.026108</td>\n",
       "      <td>-0.023390</td>\n",
       "      <td>-0.052206</td>\n",
       "      <td>0.011630</td>\n",
       "    </tr>\n",
       "    <tr>\n",
       "      <th>OTHERS</th>\n",
       "      <td>-0.020229</td>\n",
       "      <td>0.000270</td>\n",
       "      <td>1.000000</td>\n",
       "      <td>-0.049071</td>\n",
       "      <td>-0.738974</td>\n",
       "      <td>-0.030146</td>\n",
       "      <td>-0.034654</td>\n",
       "      <td>0.032261</td>\n",
       "      <td>-0.037080</td>\n",
       "      <td>-0.037151</td>\n",
       "      <td>0.115549</td>\n",
       "      <td>-0.050482</td>\n",
       "      <td>-0.038443</td>\n",
       "      <td>-0.019899</td>\n",
       "      <td>0.029777</td>\n",
       "    </tr>\n",
       "    <tr>\n",
       "      <th>POSTGRAD</th>\n",
       "      <td>-0.012151</td>\n",
       "      <td>0.049095</td>\n",
       "      <td>-0.049071</td>\n",
       "      <td>1.000000</td>\n",
       "      <td>-0.583960</td>\n",
       "      <td>-0.018017</td>\n",
       "      <td>0.065897</td>\n",
       "      <td>-0.038518</td>\n",
       "      <td>0.057931</td>\n",
       "      <td>0.058328</td>\n",
       "      <td>-0.022553</td>\n",
       "      <td>0.049772</td>\n",
       "      <td>0.053748</td>\n",
       "      <td>0.015865</td>\n",
       "      <td>-0.007072</td>\n",
       "    </tr>\n",
       "    <tr>\n",
       "      <th>UG</th>\n",
       "      <td>0.030215</td>\n",
       "      <td>-0.032180</td>\n",
       "      <td>-0.738974</td>\n",
       "      <td>-0.583960</td>\n",
       "      <td>1.000000</td>\n",
       "      <td>0.034805</td>\n",
       "      <td>-0.031357</td>\n",
       "      <td>-0.005793</td>\n",
       "      <td>-0.024780</td>\n",
       "      <td>-0.025063</td>\n",
       "      <td>-0.068082</td>\n",
       "      <td>-0.006093</td>\n",
       "      <td>-0.015127</td>\n",
       "      <td>0.002676</td>\n",
       "      <td>-0.016085</td>\n",
       "    </tr>\n",
       "    <tr>\n",
       "      <th>TENURE</th>\n",
       "      <td>0.025325</td>\n",
       "      <td>0.011332</td>\n",
       "      <td>-0.030146</td>\n",
       "      <td>-0.018017</td>\n",
       "      <td>0.034805</td>\n",
       "      <td>1.000000</td>\n",
       "      <td>0.027275</td>\n",
       "      <td>-0.066395</td>\n",
       "      <td>0.133474</td>\n",
       "      <td>0.133445</td>\n",
       "      <td>-0.184064</td>\n",
       "      <td>0.079279</td>\n",
       "      <td>0.057643</td>\n",
       "      <td>0.043866</td>\n",
       "      <td>0.078611</td>\n",
       "    </tr>\n",
       "    <tr>\n",
       "      <th>EMI</th>\n",
       "      <td>-0.004242</td>\n",
       "      <td>-0.028237</td>\n",
       "      <td>-0.034654</td>\n",
       "      <td>0.065897</td>\n",
       "      <td>-0.031357</td>\n",
       "      <td>0.027275</td>\n",
       "      <td>1.000000</td>\n",
       "      <td>0.118037</td>\n",
       "      <td>0.960383</td>\n",
       "      <td>0.962239</td>\n",
       "      <td>-0.263581</td>\n",
       "      <td>0.618978</td>\n",
       "      <td>0.512627</td>\n",
       "      <td>0.075092</td>\n",
       "      <td>0.058316</td>\n",
       "    </tr>\n",
       "    <tr>\n",
       "      <th>AGE</th>\n",
       "      <td>-0.044380</td>\n",
       "      <td>-0.280528</td>\n",
       "      <td>0.032261</td>\n",
       "      <td>-0.038518</td>\n",
       "      <td>-0.005793</td>\n",
       "      <td>-0.066395</td>\n",
       "      <td>0.118037</td>\n",
       "      <td>1.000000</td>\n",
       "      <td>0.114390</td>\n",
       "      <td>0.114552</td>\n",
       "      <td>-0.101918</td>\n",
       "      <td>0.132187</td>\n",
       "      <td>0.117426</td>\n",
       "      <td>0.061067</td>\n",
       "      <td>-0.023399</td>\n",
       "    </tr>\n",
       "    <tr>\n",
       "      <th>ASSETCOST</th>\n",
       "      <td>-0.000307</td>\n",
       "      <td>-0.027001</td>\n",
       "      <td>-0.037080</td>\n",
       "      <td>0.057931</td>\n",
       "      <td>-0.024780</td>\n",
       "      <td>0.133474</td>\n",
       "      <td>0.960383</td>\n",
       "      <td>0.114390</td>\n",
       "      <td>1.000000</td>\n",
       "      <td>0.998507</td>\n",
       "      <td>-0.300454</td>\n",
       "      <td>0.640527</td>\n",
       "      <td>0.529810</td>\n",
       "      <td>0.079275</td>\n",
       "      <td>0.062794</td>\n",
       "    </tr>\n",
       "    <tr>\n",
       "      <th>AMTFIN</th>\n",
       "      <td>-0.000257</td>\n",
       "      <td>-0.027133</td>\n",
       "      <td>-0.037151</td>\n",
       "      <td>0.058328</td>\n",
       "      <td>-0.025063</td>\n",
       "      <td>0.133445</td>\n",
       "      <td>0.962239</td>\n",
       "      <td>0.114552</td>\n",
       "      <td>0.998507</td>\n",
       "      <td>1.000000</td>\n",
       "      <td>-0.300540</td>\n",
       "      <td>0.639513</td>\n",
       "      <td>0.529202</td>\n",
       "      <td>0.079435</td>\n",
       "      <td>0.063107</td>\n",
       "    </tr>\n",
       "    <tr>\n",
       "      <th>EFFRATE</th>\n",
       "      <td>-0.031567</td>\n",
       "      <td>0.057523</td>\n",
       "      <td>0.115549</td>\n",
       "      <td>-0.022553</td>\n",
       "      <td>-0.068082</td>\n",
       "      <td>-0.184064</td>\n",
       "      <td>-0.263581</td>\n",
       "      <td>-0.101918</td>\n",
       "      <td>-0.300454</td>\n",
       "      <td>-0.300540</td>\n",
       "      <td>1.000000</td>\n",
       "      <td>-0.276656</td>\n",
       "      <td>-0.215478</td>\n",
       "      <td>-0.164068</td>\n",
       "      <td>0.128828</td>\n",
       "    </tr>\n",
       "    <tr>\n",
       "      <th>LOWESTTECHVALUE</th>\n",
       "      <td>-0.011344</td>\n",
       "      <td>-0.026108</td>\n",
       "      <td>-0.050482</td>\n",
       "      <td>0.049772</td>\n",
       "      <td>-0.006093</td>\n",
       "      <td>0.079279</td>\n",
       "      <td>0.618978</td>\n",
       "      <td>0.132187</td>\n",
       "      <td>0.640527</td>\n",
       "      <td>0.639513</td>\n",
       "      <td>-0.276656</td>\n",
       "      <td>1.000000</td>\n",
       "      <td>0.846429</td>\n",
       "      <td>0.087798</td>\n",
       "      <td>0.010616</td>\n",
       "    </tr>\n",
       "    <tr>\n",
       "      <th>HIGHESTTECHVALUE</th>\n",
       "      <td>-0.009311</td>\n",
       "      <td>-0.023390</td>\n",
       "      <td>-0.038443</td>\n",
       "      <td>0.053748</td>\n",
       "      <td>-0.015127</td>\n",
       "      <td>0.057643</td>\n",
       "      <td>0.512627</td>\n",
       "      <td>0.117426</td>\n",
       "      <td>0.529810</td>\n",
       "      <td>0.529202</td>\n",
       "      <td>-0.215478</td>\n",
       "      <td>0.846429</td>\n",
       "      <td>1.000000</td>\n",
       "      <td>0.072158</td>\n",
       "      <td>0.012781</td>\n",
       "    </tr>\n",
       "    <tr>\n",
       "      <th>CIBILTUSC2_SCORE</th>\n",
       "      <td>0.065638</td>\n",
       "      <td>-0.052206</td>\n",
       "      <td>-0.019899</td>\n",
       "      <td>0.015865</td>\n",
       "      <td>0.002676</td>\n",
       "      <td>0.043866</td>\n",
       "      <td>0.075092</td>\n",
       "      <td>0.061067</td>\n",
       "      <td>0.079275</td>\n",
       "      <td>0.079435</td>\n",
       "      <td>-0.164068</td>\n",
       "      <td>0.087798</td>\n",
       "      <td>0.072158</td>\n",
       "      <td>1.000000</td>\n",
       "      <td>-0.028138</td>\n",
       "    </tr>\n",
       "    <tr>\n",
       "      <th>class</th>\n",
       "      <td>-0.012374</td>\n",
       "      <td>0.011630</td>\n",
       "      <td>0.029777</td>\n",
       "      <td>-0.007072</td>\n",
       "      <td>-0.016085</td>\n",
       "      <td>0.078611</td>\n",
       "      <td>0.058316</td>\n",
       "      <td>-0.023399</td>\n",
       "      <td>0.062794</td>\n",
       "      <td>0.063107</td>\n",
       "      <td>0.128828</td>\n",
       "      <td>0.010616</td>\n",
       "      <td>0.012781</td>\n",
       "      <td>-0.028138</td>\n",
       "      <td>1.000000</td>\n",
       "    </tr>\n",
       "  </tbody>\n",
       "</table>\n",
       "</div>"
      ],
      "text/plain": [
       "                         M         S    OTHERS  POSTGRAD        UG    TENURE  \\\n",
       "M                 1.000000  0.075785 -0.020229 -0.012151  0.030215  0.025325   \n",
       "S                 0.075785  1.000000  0.000270  0.049095 -0.032180  0.011332   \n",
       "OTHERS           -0.020229  0.000270  1.000000 -0.049071 -0.738974 -0.030146   \n",
       "POSTGRAD         -0.012151  0.049095 -0.049071  1.000000 -0.583960 -0.018017   \n",
       "UG                0.030215 -0.032180 -0.738974 -0.583960  1.000000  0.034805   \n",
       "TENURE            0.025325  0.011332 -0.030146 -0.018017  0.034805  1.000000   \n",
       "EMI              -0.004242 -0.028237 -0.034654  0.065897 -0.031357  0.027275   \n",
       "AGE              -0.044380 -0.280528  0.032261 -0.038518 -0.005793 -0.066395   \n",
       "ASSETCOST        -0.000307 -0.027001 -0.037080  0.057931 -0.024780  0.133474   \n",
       "AMTFIN           -0.000257 -0.027133 -0.037151  0.058328 -0.025063  0.133445   \n",
       "EFFRATE          -0.031567  0.057523  0.115549 -0.022553 -0.068082 -0.184064   \n",
       "LOWESTTECHVALUE  -0.011344 -0.026108 -0.050482  0.049772 -0.006093  0.079279   \n",
       "HIGHESTTECHVALUE -0.009311 -0.023390 -0.038443  0.053748 -0.015127  0.057643   \n",
       "CIBILTUSC2_SCORE  0.065638 -0.052206 -0.019899  0.015865  0.002676  0.043866   \n",
       "class            -0.012374  0.011630  0.029777 -0.007072 -0.016085  0.078611   \n",
       "\n",
       "                       EMI       AGE  ASSETCOST    AMTFIN   EFFRATE  \\\n",
       "M                -0.004242 -0.044380  -0.000307 -0.000257 -0.031567   \n",
       "S                -0.028237 -0.280528  -0.027001 -0.027133  0.057523   \n",
       "OTHERS           -0.034654  0.032261  -0.037080 -0.037151  0.115549   \n",
       "POSTGRAD          0.065897 -0.038518   0.057931  0.058328 -0.022553   \n",
       "UG               -0.031357 -0.005793  -0.024780 -0.025063 -0.068082   \n",
       "TENURE            0.027275 -0.066395   0.133474  0.133445 -0.184064   \n",
       "EMI               1.000000  0.118037   0.960383  0.962239 -0.263581   \n",
       "AGE               0.118037  1.000000   0.114390  0.114552 -0.101918   \n",
       "ASSETCOST         0.960383  0.114390   1.000000  0.998507 -0.300454   \n",
       "AMTFIN            0.962239  0.114552   0.998507  1.000000 -0.300540   \n",
       "EFFRATE          -0.263581 -0.101918  -0.300454 -0.300540  1.000000   \n",
       "LOWESTTECHVALUE   0.618978  0.132187   0.640527  0.639513 -0.276656   \n",
       "HIGHESTTECHVALUE  0.512627  0.117426   0.529810  0.529202 -0.215478   \n",
       "CIBILTUSC2_SCORE  0.075092  0.061067   0.079275  0.079435 -0.164068   \n",
       "class             0.058316 -0.023399   0.062794  0.063107  0.128828   \n",
       "\n",
       "                  LOWESTTECHVALUE  HIGHESTTECHVALUE  CIBILTUSC2_SCORE  \\\n",
       "M                       -0.011344         -0.009311          0.065638   \n",
       "S                       -0.026108         -0.023390         -0.052206   \n",
       "OTHERS                  -0.050482         -0.038443         -0.019899   \n",
       "POSTGRAD                 0.049772          0.053748          0.015865   \n",
       "UG                      -0.006093         -0.015127          0.002676   \n",
       "TENURE                   0.079279          0.057643          0.043866   \n",
       "EMI                      0.618978          0.512627          0.075092   \n",
       "AGE                      0.132187          0.117426          0.061067   \n",
       "ASSETCOST                0.640527          0.529810          0.079275   \n",
       "AMTFIN                   0.639513          0.529202          0.079435   \n",
       "EFFRATE                 -0.276656         -0.215478         -0.164068   \n",
       "LOWESTTECHVALUE          1.000000          0.846429          0.087798   \n",
       "HIGHESTTECHVALUE         0.846429          1.000000          0.072158   \n",
       "CIBILTUSC2_SCORE         0.087798          0.072158          1.000000   \n",
       "class                    0.010616          0.012781         -0.028138   \n",
       "\n",
       "                     class  \n",
       "M                -0.012374  \n",
       "S                 0.011630  \n",
       "OTHERS            0.029777  \n",
       "POSTGRAD         -0.007072  \n",
       "UG               -0.016085  \n",
       "TENURE            0.078611  \n",
       "EMI               0.058316  \n",
       "AGE              -0.023399  \n",
       "ASSETCOST         0.062794  \n",
       "AMTFIN            0.063107  \n",
       "EFFRATE           0.128828  \n",
       "LOWESTTECHVALUE   0.010616  \n",
       "HIGHESTTECHVALUE  0.012781  \n",
       "CIBILTUSC2_SCORE -0.028138  \n",
       "class             1.000000  "
      ]
     },
     "execution_count": 40,
     "metadata": {},
     "output_type": "execute_result"
    }
   ],
   "source": [
    "# Seeing the correlation values\n",
    "corr_back"
   ]
  },
  {
   "cell_type": "code",
   "execution_count": 16,
   "metadata": {},
   "outputs": [],
   "source": [
    "## Import library\n",
    "import pandas as pd\n",
    "import numpy as np\n",
    "from sklearn.metrics import confusion_matrix\n",
    "from sklearn.metrics import accuracy_score\n",
    "\n",
    "from sklearn.model_selection import train_test_split"
   ]
  },
  {
   "cell_type": "code",
   "execution_count": 35,
   "metadata": {},
   "outputs": [
    {
     "data": {
      "text/plain": [
       "(5280,)"
      ]
     },
     "execution_count": 35,
     "metadata": {},
     "output_type": "execute_result"
    }
   ],
   "source": [
    "y_test.shape"
   ]
  },
  {
   "cell_type": "code",
   "execution_count": 17,
   "metadata": {},
   "outputs": [],
   "source": [
    "X = train1.iloc[:, 0:14].values\n",
    "y = train1.iloc[:, 14].values\n",
    "# split data into train and test sets\n",
    "X_train, X_test, y_train, y_test = train_test_split(X, y, test_size=0.3, random_state=0)\n",
    "# Feature Scaling\n",
    "from sklearn.preprocessing import StandardScaler\n",
    "sc = StandardScaler()\n",
    "X_train = sc.fit_transform(X_train)\n",
    "X_test = sc.transform(X_test)"
   ]
  },
  {
   "cell_type": "markdown",
   "metadata": {},
   "source": [
    "# LogisticRegression"
   ]
  },
  {
   "cell_type": "code",
   "execution_count": 18,
   "metadata": {},
   "outputs": [],
   "source": [
    "import statsmodels.api as sm\n",
    "from sklearn.linear_model import LogisticRegression"
   ]
  },
  {
   "cell_type": "code",
   "execution_count": 19,
   "metadata": {
    "scrolled": true
   },
   "outputs": [
    {
     "name": "stdout",
     "output_type": "stream",
     "text": [
      "Optimization terminated successfully.\n",
      "         Current function value: 0.676943\n",
      "         Iterations 5\n",
      "                         Results: Logit\n",
      "=================================================================\n",
      "Model:              Logit            Pseudo R-squared: 0.005     \n",
      "Dependent Variable: y                AIC:              16707.8756\n",
      "Date:               2019-08-19 14:01 BIC:              16811.7413\n",
      "No. Observations:   12320            Log-Likelihood:   -8339.9   \n",
      "Df Model:           13               LL-Null:          -8380.4   \n",
      "Df Residuals:       12306            LLR p-value:      7.2515e-12\n",
      "Converged:          1.0000           Scale:            1.0000    \n",
      "No. Iterations:     5.0000                                       \n",
      "--------------------------------------------------------------------\n",
      "        Coef.     Std.Err.       z       P>|z|      [0.025    0.975]\n",
      "--------------------------------------------------------------------\n",
      "x1     -0.0163      0.0184    -0.8819    0.3778    -0.0524    0.0199\n",
      "x2      0.0118      0.0192     0.6136    0.5395    -0.0258    0.0494\n",
      "x3      0.0887      0.0558     1.5888    0.1121    -0.0207    0.1981\n",
      "x4      0.0329      0.0469     0.7019    0.4827    -0.0590    0.1249\n",
      "x5      0.0718      0.0689     1.0411    0.2978    -0.0633    0.2069\n",
      "x6      0.1961      0.0212     9.2610    0.0000     0.1546    0.2376\n",
      "x7      0.2507      0.0974     2.5735    0.0101     0.0598    0.4416\n",
      "x8     -0.0043      0.0195    -0.2200    0.8258    -0.0424    0.0338\n",
      "x9     -0.1162      0.2895    -0.4014    0.6881    -0.6836    0.4512\n",
      "x10     0.0960      0.3083     0.3114    0.7555    -0.5082    0.7002\n",
      "x11     0.3259      0.0204    15.9907    0.0000     0.2860    0.3658\n",
      "x12    -0.0328      0.0448    -0.7319    0.4642    -0.1206    0.0550\n",
      "x13     0.0015      0.0406     0.0357    0.9715    -0.0781    0.0811\n",
      "x14    -0.0224      0.0186    -1.2060    0.2278    -0.0589    0.0140\n",
      "=================================================================\n",
      "\n"
     ]
    }
   ],
   "source": [
    "logit_model=sm.Logit(y_train,X_train)\n",
    "result=logit_model.fit()\n",
    "print(result.summary2())"
   ]
  },
  {
   "cell_type": "code",
   "execution_count": 23,
   "metadata": {},
   "outputs": [
    {
     "name": "stdout",
     "output_type": "stream",
     "text": [
      "[[2667  374]\n",
      " [1607  632]]\n",
      "Accuracy: 62.48%\n"
     ]
    }
   ],
   "source": [
    "from sklearn import linear_model\n",
    "Classifier = linear_model.LogisticRegression()\n",
    "result=Classifier.fit(X_train, y_train)\n",
    "# make predictions for test data\n",
    "y_pred = Classifier.predict(X_test)\n",
    "predictions = [round(value) for value in y_pred]\n",
    "# evaluate predictions\n",
    "cm = confusion_matrix(y_test, predictions)\n",
    "print(cm)\n",
    "accuracy=accuracy_score(y_test,predictions)\n",
    "print(\"Accuracy: %.2f%%\" % (accuracy * 100.0))"
   ]
  },
  {
   "cell_type": "code",
   "execution_count": 21,
   "metadata": {
    "scrolled": true
   },
   "outputs": [
    {
     "name": "stderr",
     "output_type": "stream",
     "text": [
      "D:\\anaconda3\\lib\\site-packages\\sklearn\\ensemble\\weight_boosting.py:29: DeprecationWarning: numpy.core.umath_tests is an internal NumPy module and should not be imported. It will be removed in a future NumPy release.\n",
      "  from numpy.core.umath_tests import inner1d\n"
     ]
    },
    {
     "name": "stdout",
     "output_type": "stream",
     "text": [
      "[[2358  683]\n",
      " [1097 1142]]\n",
      "Accuracy: 66.29%\n"
     ]
    }
   ],
   "source": [
    "# fit model\n",
    "from sklearn.ensemble import GradientBoostingClassifier\n",
    "Classifier = GradientBoostingClassifier(n_estimators=100,max_depth=5)\n",
    "Classifier.fit(X_train, y_train)\n",
    "# make predictions for test data\n",
    "y_pred = Classifier.predict(X_test)\n",
    "predictions = [round(value) for value in y_pred]\n",
    "# evaluate predictions\n",
    "cm = confusion_matrix(y_test, predictions)\n",
    "print(cm)\n",
    "accuracy=accuracy_score(y_test,predictions)\n",
    "print(\"Accuracy: %.2f%%\" % (accuracy * 100.0))"
   ]
  },
  {
   "cell_type": "code",
   "execution_count": 24,
   "metadata": {},
   "outputs": [
    {
     "name": "stdout",
     "output_type": "stream",
     "text": [
      "[[2032 1009]\n",
      " [1263  976]]\n",
      "Accuracy: 56.97%\n"
     ]
    }
   ],
   "source": [
    "# fit model\n",
    "from sklearn.neighbors import KNeighborsClassifier\n",
    "Classifier = KNeighborsClassifier(n_neighbors=3)\n",
    "Classifier.fit(X_train, y_train)\n",
    "# make predictions for test data\n",
    "y_pred = Classifier.predict(X_test)\n",
    "predictions = [round(value) for value in y_pred]\n",
    "# evaluate predictions\n",
    "cm = confusion_matrix(y_test, predictions)\n",
    "print(cm)\n",
    "accuracy=accuracy_score(y_test,predictions)\n",
    "print(\"Accuracy: %.2f%%\" % (accuracy * 100.0))"
   ]
  },
  {
   "cell_type": "code",
   "execution_count": 25,
   "metadata": {},
   "outputs": [
    {
     "name": "stdout",
     "output_type": "stream",
     "text": [
      "[[2680  361]\n",
      " [1615  624]]\n",
      "Accuracy: 62.58%\n"
     ]
    }
   ],
   "source": [
    "# fit model\n",
    "from sklearn import svm\n",
    "Classifier = svm.LinearSVC(random_state=20)\n",
    "Classifier.fit(X_train, y_train)\n",
    "# make predictions for test data\n",
    "y_pred = Classifier.predict(X_test)\n",
    "predictions = [round(value) for value in y_pred]\n",
    "# evaluate predictions\n",
    "cm = confusion_matrix(y_test, predictions)\n",
    "print(cm)\n",
    "accuracy=accuracy_score(y_test,predictions)\n",
    "print(\"Accuracy: %.2f%%\" % (accuracy * 100.0))"
   ]
  },
  {
   "cell_type": "code",
   "execution_count": 26,
   "metadata": {},
   "outputs": [
    {
     "name": "stdout",
     "output_type": "stream",
     "text": [
      "[[2663  378]\n",
      " [1839  400]]\n",
      "Accuracy: 58.01%\n"
     ]
    }
   ],
   "source": [
    "# fit model\n",
    "from sklearn.naive_bayes import GaussianNB\n",
    "Classifier = GaussianNB()\n",
    "Classifier.fit(X_train, y_train)\n",
    "# make predictions for test data\n",
    "y_pred = Classifier.predict(X_test)\n",
    "predictions = [round(value) for value in y_pred]\n",
    "# evaluate predictions\n",
    "cm = confusion_matrix(y_test, predictions)\n",
    "print(cm)\n",
    "accuracy=accuracy_score(y_test,predictions)\n",
    "print(\"Accuracy: %.2f%%\" % (accuracy * 100.0))"
   ]
  },
  {
   "cell_type": "code",
   "execution_count": 27,
   "metadata": {},
   "outputs": [
    {
     "name": "stdout",
     "output_type": "stream",
     "text": [
      "[[2285  756]\n",
      " [1214 1025]]\n",
      "Accuracy: 62.69%\n"
     ]
    }
   ],
   "source": [
    "# fit model\n",
    "from sklearn.ensemble import RandomForestRegressor\n",
    "Classifier = RandomForestRegressor(n_estimators=20, random_state=0)\n",
    "Classifier.fit(X_train, y_train)\n",
    "# make predictions for test data\n",
    "y_pred = Classifier.predict(X_test)\n",
    "predictions = [round(value) for value in y_pred]\n",
    "# evaluate predictions\n",
    "cm = confusion_matrix(y_test, predictions)\n",
    "print(cm)\n",
    "accuracy=accuracy_score(y_test,predictions)\n",
    "print(\"Accuracy: %.2f%%\" % (accuracy * 100.0))"
   ]
  },
  {
   "cell_type": "code",
   "execution_count": 42,
   "metadata": {
    "scrolled": true
   },
   "outputs": [
    {
     "name": "stdout",
     "output_type": "stream",
     "text": [
      "[[2413  628]\n",
      " [1129 1110]]\n",
      "Accuracy: 66.72%\n"
     ]
    },
    {
     "name": "stderr",
     "output_type": "stream",
     "text": [
      "D:\\anaconda3\\lib\\site-packages\\sklearn\\preprocessing\\label.py:151: DeprecationWarning: The truth value of an empty array is ambiguous. Returning False, but in future this will result in an error. Use `array.size > 0` to check that an array is not empty.\n",
      "  if diff:\n"
     ]
    }
   ],
   "source": [
    "# fit model\n",
    "from xgboost import XGBClassifier\n",
    "Classifier = XGBClassifier()\n",
    "Classifier.fit(X_train, y_train)\n",
    "# make predictions for test data\n",
    "y_pred = Classifier.predict(X_test)\n",
    "predictions = [round(value) for value in y_pred]\n",
    "# evaluate predictions\n",
    "accuracy=accuracy_score(y_test,predictions)\n",
    "cm = confusion_matrix(y_test, predictions)\n",
    "print(cm)\n",
    "print(\"Accuracy: %.2f%%\" % (accuracy * 100.0))\n"
   ]
  },
  {
   "cell_type": "code",
   "execution_count": 31,
   "metadata": {
    "scrolled": true
   },
   "outputs": [
    {
     "name": "stdout",
     "output_type": "stream",
     "text": [
      "WARNING:tensorflow:From D:\\anaconda3\\lib\\site-packages\\tensorflow\\python\\ops\\math_ops.py:3066: to_int32 (from tensorflow.python.ops.math_ops) is deprecated and will be removed in a future version.\n",
      "Instructions for updating:\n",
      "Use tf.cast instead.\n",
      "Epoch 1/100\n",
      "12320/12320 [==============================] - 2s 197us/step - loss: 0.6676 - acc: 0.5948\n",
      "Epoch 2/100\n",
      "12320/12320 [==============================] - 2s 170us/step - loss: 0.6599 - acc: 0.6126\n",
      "Epoch 3/100\n",
      "12320/12320 [==============================] - 2s 171us/step - loss: 0.6589 - acc: 0.6139\n",
      "Epoch 4/100\n",
      "12320/12320 [==============================] - 2s 145us/step - loss: 0.6579 - acc: 0.6147\n",
      "Epoch 5/100\n",
      "12320/12320 [==============================] - 2s 142us/step - loss: 0.6574 - acc: 0.6144\n",
      "Epoch 6/100\n",
      "12320/12320 [==============================] - 2s 196us/step - loss: 0.6569 - acc: 0.6140\n",
      "Epoch 7/100\n",
      "12320/12320 [==============================] - 2s 167us/step - loss: 0.6563 - acc: 0.6188\n",
      "Epoch 8/100\n",
      "12320/12320 [==============================] - 2s 152us/step - loss: 0.6553 - acc: 0.6183\n",
      "Epoch 9/100\n",
      "12320/12320 [==============================] - 2s 161us/step - loss: 0.6549 - acc: 0.6204\n",
      "Epoch 10/100\n",
      "12320/12320 [==============================] - 2s 140us/step - loss: 0.6543 - acc: 0.6217\n",
      "Epoch 11/100\n",
      "12320/12320 [==============================] - 2s 136us/step - loss: 0.6536 - acc: 0.6208\n",
      "Epoch 12/100\n",
      "12320/12320 [==============================] - 2s 140us/step - loss: 0.6533 - acc: 0.6205\n",
      "Epoch 13/100\n",
      "12320/12320 [==============================] - 2s 144us/step - loss: 0.6529 - acc: 0.6217\n",
      "Epoch 14/100\n",
      "12320/12320 [==============================] - 2s 167us/step - loss: 0.6524 - acc: 0.6251\n",
      "Epoch 15/100\n",
      "12320/12320 [==============================] - 2s 165us/step - loss: 0.6522 - acc: 0.6236\n",
      "Epoch 16/100\n",
      "12320/12320 [==============================] - 2s 127us/step - loss: 0.6517 - acc: 0.6255\n",
      "Epoch 17/100\n",
      "12320/12320 [==============================] - 2s 142us/step - loss: 0.6518 - acc: 0.6255 0s - loss: 0.64\n",
      "Epoch 18/100\n",
      "12320/12320 [==============================] - 2s 142us/step - loss: 0.6510 - acc: 0.6247\n",
      "Epoch 19/100\n",
      "12320/12320 [==============================] - 2s 132us/step - loss: 0.6511 - acc: 0.6248\n",
      "Epoch 20/100\n",
      "12320/12320 [==============================] - 2s 131us/step - loss: 0.6501 - acc: 0.6250\n",
      "Epoch 21/100\n",
      "12320/12320 [==============================] - 2s 133us/step - loss: 0.6500 - acc: 0.6266\n",
      "Epoch 22/100\n",
      "12320/12320 [==============================] - 2s 134us/step - loss: 0.6499 - acc: 0.6273\n",
      "Epoch 23/100\n",
      "12320/12320 [==============================] - 2s 150us/step - loss: 0.6497 - acc: 0.6282\n",
      "Epoch 24/100\n",
      "12320/12320 [==============================] - 2s 186us/step - loss: 0.6488 - acc: 0.6293\n",
      "Epoch 25/100\n",
      "12320/12320 [==============================] - 2s 139us/step - loss: 0.6490 - acc: 0.6268\n",
      "Epoch 26/100\n",
      "12320/12320 [==============================] - 2s 166us/step - loss: 0.6481 - acc: 0.6279\n",
      "Epoch 27/100\n",
      "12320/12320 [==============================] - 2s 160us/step - loss: 0.6480 - acc: 0.6301\n",
      "Epoch 28/100\n",
      "12320/12320 [==============================] - 2s 151us/step - loss: 0.6478 - acc: 0.6293\n",
      "Epoch 29/100\n",
      "12320/12320 [==============================] - 2s 134us/step - loss: 0.6474 - acc: 0.6300\n",
      "Epoch 30/100\n",
      "12320/12320 [==============================] - 2s 128us/step - loss: 0.6473 - acc: 0.6305\n",
      "Epoch 31/100\n",
      "12320/12320 [==============================] - 2s 161us/step - loss: 0.6467 - acc: 0.6319\n",
      "Epoch 32/100\n",
      "12320/12320 [==============================] - 3s 215us/step - loss: 0.6469 - acc: 0.6327\n",
      "Epoch 33/100\n",
      "12320/12320 [==============================] - 2s 175us/step - loss: 0.6463 - acc: 0.6317\n",
      "Epoch 34/100\n",
      "12320/12320 [==============================] - 2s 160us/step - loss: 0.6460 - acc: 0.6309\n",
      "Epoch 35/100\n",
      "12320/12320 [==============================] - 2s 143us/step - loss: 0.6461 - acc: 0.6307\n",
      "Epoch 36/100\n",
      "12320/12320 [==============================] - 2s 139us/step - loss: 0.6455 - acc: 0.6330\n",
      "Epoch 37/100\n",
      "12320/12320 [==============================] - 2s 162us/step - loss: 0.6448 - acc: 0.6327\n",
      "Epoch 38/100\n",
      "12320/12320 [==============================] - 2s 154us/step - loss: 0.6454 - acc: 0.6322\n",
      "Epoch 39/100\n",
      "12320/12320 [==============================] - 2s 167us/step - loss: 0.6449 - acc: 0.6308\n",
      "Epoch 40/100\n",
      "12320/12320 [==============================] - 2s 182us/step - loss: 0.6448 - acc: 0.6333\n",
      "Epoch 41/100\n",
      "12320/12320 [==============================] - 2s 171us/step - loss: 0.6448 - acc: 0.6334\n",
      "Epoch 42/100\n",
      "12320/12320 [==============================] - 2s 146us/step - loss: 0.6447 - acc: 0.6315\n",
      "Epoch 43/100\n",
      "12320/12320 [==============================] - 2s 140us/step - loss: 0.6444 - acc: 0.6325\n",
      "Epoch 44/100\n",
      "12320/12320 [==============================] - 2s 144us/step - loss: 0.6438 - acc: 0.6338\n",
      "Epoch 45/100\n",
      "12320/12320 [==============================] - 2s 134us/step - loss: 0.6440 - acc: 0.6344\n",
      "Epoch 46/100\n",
      "12320/12320 [==============================] - 2s 138us/step - loss: 0.6437 - acc: 0.6342\n",
      "Epoch 47/100\n",
      "12320/12320 [==============================] - 2s 145us/step - loss: 0.6430 - acc: 0.6345\n",
      "Epoch 48/100\n",
      "12320/12320 [==============================] - 2s 162us/step - loss: 0.6435 - acc: 0.6341\n",
      "Epoch 49/100\n",
      "12320/12320 [==============================] - 3s 203us/step - loss: 0.6434 - acc: 0.6349\n",
      "Epoch 50/100\n",
      "12320/12320 [==============================] - 2s 163us/step - loss: 0.6430 - acc: 0.6323\n",
      "Epoch 51/100\n",
      "12320/12320 [==============================] - 2s 159us/step - loss: 0.6430 - acc: 0.6351\n",
      "Epoch 52/100\n",
      "12320/12320 [==============================] - 2s 161us/step - loss: 0.6427 - acc: 0.6357\n",
      "Epoch 53/100\n",
      "12320/12320 [==============================] - 2s 157us/step - loss: 0.6423 - acc: 0.6342\n",
      "Epoch 54/100\n",
      "12320/12320 [==============================] - 2s 155us/step - loss: 0.6430 - acc: 0.6355\n",
      "Epoch 55/100\n",
      "12320/12320 [==============================] - 2s 169us/step - loss: 0.6422 - acc: 0.6353\n",
      "Epoch 56/100\n",
      "12320/12320 [==============================] - 2s 145us/step - loss: 0.6424 - acc: 0.6351\n",
      "Epoch 57/100\n",
      "12320/12320 [==============================] - 2s 161us/step - loss: 0.6420 - acc: 0.6334\n",
      "Epoch 58/100\n",
      "12320/12320 [==============================] - 2s 161us/step - loss: 0.6420 - acc: 0.6377\n",
      "Epoch 59/100\n",
      "12320/12320 [==============================] - 1s 114us/step - loss: 0.6410 - acc: 0.6350\n",
      "Epoch 60/100\n",
      "12320/12320 [==============================] - 1s 107us/step - loss: 0.6410 - acc: 0.6392\n",
      "Epoch 61/100\n",
      "12320/12320 [==============================] - 1s 107us/step - loss: 0.6409 - acc: 0.6377\n",
      "Epoch 62/100\n",
      "12320/12320 [==============================] - 1s 112us/step - loss: 0.6402 - acc: 0.6375\n",
      "Epoch 63/100\n",
      "12320/12320 [==============================] - 1s 111us/step - loss: 0.6406 - acc: 0.6359\n",
      "Epoch 64/100\n",
      "12320/12320 [==============================] - 1s 118us/step - loss: 0.6404 - acc: 0.6381\n",
      "Epoch 65/100\n",
      "12320/12320 [==============================] - 1s 112us/step - loss: 0.6396 - acc: 0.6387\n",
      "Epoch 66/100\n",
      "12320/12320 [==============================] - 1s 120us/step - loss: 0.6397 - acc: 0.6373\n",
      "Epoch 67/100\n",
      "12320/12320 [==============================] - 2s 143us/step - loss: 0.6401 - acc: 0.6381\n",
      "Epoch 68/100\n",
      "12320/12320 [==============================] - 2s 128us/step - loss: 0.6396 - acc: 0.6380\n",
      "Epoch 69/100\n",
      "12320/12320 [==============================] - 1s 112us/step - loss: 0.6394 - acc: 0.6403\n",
      "Epoch 70/100\n",
      "12320/12320 [==============================] - 1s 110us/step - loss: 0.6392 - acc: 0.6371\n",
      "Epoch 71/100\n",
      "12320/12320 [==============================] - 2s 138us/step - loss: 0.6392 - acc: 0.6396\n",
      "Epoch 72/100\n",
      "12320/12320 [==============================] - 2s 183us/step - loss: 0.6392 - acc: 0.6412\n",
      "Epoch 73/100\n",
      "12320/12320 [==============================] - 2s 162us/step - loss: 0.6385 - acc: 0.6412\n",
      "Epoch 74/100\n",
      "12320/12320 [==============================] - 2s 152us/step - loss: 0.6387 - acc: 0.6400\n",
      "Epoch 75/100\n",
      "12320/12320 [==============================] - 2s 167us/step - loss: 0.6389 - acc: 0.6378\n",
      "Epoch 76/100\n",
      "12320/12320 [==============================] - 3s 206us/step - loss: 0.6377 - acc: 0.6398\n",
      "Epoch 77/100\n",
      "12320/12320 [==============================] - 2s 183us/step - loss: 0.6377 - acc: 0.6413\n",
      "Epoch 78/100\n"
     ]
    },
    {
     "name": "stdout",
     "output_type": "stream",
     "text": [
      "12320/12320 [==============================] - 2s 164us/step - loss: 0.6379 - acc: 0.6406\n",
      "Epoch 79/100\n",
      "12320/12320 [==============================] - 2s 166us/step - loss: 0.6382 - acc: 0.6399\n",
      "Epoch 80/100\n",
      "12320/12320 [==============================] - 2s 165us/step - loss: 0.6381 - acc: 0.6415\n",
      "Epoch 81/100\n",
      "12320/12320 [==============================] - ETA: 0s - loss: 0.6386 - acc: 0.644 - 3s 210us/step - loss: 0.6385 - acc: 0.6442\n",
      "Epoch 82/100\n",
      "12320/12320 [==============================] - 2s 198us/step - loss: 0.6377 - acc: 0.6403\n",
      "Epoch 83/100\n",
      "12320/12320 [==============================] - 3s 236us/step - loss: 0.6384 - acc: 0.6413 2s -  - ETA: 0s - loss: 0.63\n",
      "Epoch 84/100\n",
      "12320/12320 [==============================] - 3s 207us/step - loss: 0.6370 - acc: 0.6455\n",
      "Epoch 85/100\n",
      "12320/12320 [==============================] - 2s 201us/step - loss: 0.6375 - acc: 0.6415\n",
      "Epoch 86/100\n",
      "12320/12320 [==============================] - 3s 262us/step - loss: 0.6373 - acc: 0.6420\n",
      "Epoch 87/100\n",
      "12320/12320 [==============================] - 3s 256us/step - loss: 0.6370 - acc: 0.6420\n",
      "Epoch 88/100\n",
      "12320/12320 [==============================] - 3s 237us/step - loss: 0.6371 - acc: 0.6406\n",
      "Epoch 89/100\n",
      "12320/12320 [==============================] - 3s 236us/step - loss: 0.6374 - acc: 0.6425\n",
      "Epoch 90/100\n",
      "12320/12320 [==============================] - 3s 215us/step - loss: 0.6371 - acc: 0.6419\n",
      "Epoch 91/100\n",
      "12320/12320 [==============================] - 2s 182us/step - loss: 0.6373 - acc: 0.6433 0s - loss: 0.6345 \n",
      "Epoch 92/100\n",
      "12320/12320 [==============================] - 2s 191us/step - loss: 0.6368 - acc: 0.6441\n",
      "Epoch 93/100\n",
      "12320/12320 [==============================] - 2s 184us/step - loss: 0.6365 - acc: 0.6438\n",
      "Epoch 94/100\n",
      "12320/12320 [==============================] - 3s 209us/step - loss: 0.6366 - acc: 0.6466\n",
      "Epoch 95/100\n",
      "12320/12320 [==============================] - 3s 237us/step - loss: 0.6373 - acc: 0.6422\n",
      "Epoch 96/100\n",
      "12320/12320 [==============================] - 3s 210us/step - loss: 0.6366 - acc: 0.6437\n",
      "Epoch 97/100\n",
      "12320/12320 [==============================] - 2s 202us/step - loss: 0.6364 - acc: 0.6450\n",
      "Epoch 98/100\n",
      "12320/12320 [==============================] - 2s 200us/step - loss: 0.6360 - acc: 0.6427\n",
      "Epoch 99/100\n",
      "12320/12320 [==============================] - 2s 188us/step - loss: 0.6364 - acc: 0.6416\n",
      "Epoch 100/100\n",
      "12320/12320 [==============================] - 2s 176us/step - loss: 0.6361 - acc: 0.6405\n",
      "[[2557  484]\n",
      " [1452  787]]\n",
      "Accuracy: 63.33%\n"
     ]
    }
   ],
   "source": [
    "from keras import Sequential\n",
    "from keras.layers import Dense\n",
    "classifier = Sequential()\n",
    "#First Hidden Layer\n",
    "classifier.add(Dense(14, activation='relu', kernel_initializer='random_normal', input_dim=14))\n",
    "#Second  Hidden Layer\n",
    "classifier.add(Dense(14, activation='relu', kernel_initializer='random_normal'))\n",
    "#Output Layer\n",
    "classifier.add(Dense(1, activation='sigmoid', kernel_initializer='random_normal'))\n",
    "#Compiling the neural network\n",
    "classifier.compile(optimizer ='adam',loss='binary_crossentropy', metrics =['accuracy'])\n",
    "classifier.fit(X_train,y_train, batch_size=10,epochs=100)\n",
    "# eval_model=classifier.evaluate(X_train, y_train)\n",
    "y_pred=classifier.predict(X_test)\n",
    "y_pred =(y_pred>0.5)\n",
    "cm = confusion_matrix(y_test, y_pred)\n",
    "print(cm)\n",
    "accuracy=accuracy_score(y_test,y_pred)\n",
    "print(\"Accuracy: %.2f%%\" % (accuracy * 100.0))"
   ]
  },
  {
   "cell_type": "code",
   "execution_count": 37,
   "metadata": {},
   "outputs": [],
   "source": [
    "import seaborn as sn\n",
    "import pandas as pd\n",
    "import matplotlib.pyplot as plt"
   ]
  },
  {
   "cell_type": "code",
   "execution_count": 43,
   "metadata": {},
   "outputs": [
    {
     "data": {
      "text/plain": [
       "<matplotlib.axes._subplots.AxesSubplot at 0x297929736a0>"
      ]
     },
     "execution_count": 43,
     "metadata": {},
     "output_type": "execute_result"
    },
    {
     "data": {
      "image/png": "[encoded data removed]",
      "text/plain": [
       "<Figure size 432x288 with 2 Axes>"
      ]
     },
     "metadata": {},
     "output_type": "display_data"
    }
   ],
   "source": [
    "sn.set(font_scale=1.4)#for label size\n",
    "sn.heatmap(cm, annot=True,annot_kws={\"size\": 16})# font size"
   ]
  },
  {
   "cell_type": "code",
   "execution_count": null,
   "metadata": {},
   "outputs": [],
   "source": [
    "updated_arrays = np.where(df['hh'] == 0, 1, df['hh']) "
   ]
  },
  {
   "cell_type": "code",
   "execution_count": null,
   "metadata": {},
   "outputs": [],
   "source": [
    "updated_arrays"
   ]
  },
  {
   "cell_type": "code",
   "execution_count": null,
   "metadata": {},
   "outputs": [],
   "source": [
    "df['hh'] = pd.DataFrame(data=predictions)"
   ]
  },
  {
   "cell_type": "code",
   "execution_count": null,
   "metadata": {},
   "outputs": [],
   "source": [
    "from sklearn.metrics import classification_report \n",
    "print('Accuracy Score :',accuracy_score(y_test, updated_arrays))\n",
    "print('Report : ')\n",
    "cm = confusion_matrix(y_test, updated_arrays)\n",
    "print(cm)\n",
    "print(classification_report(y_test, updated_arrays))"
   ]
  }
 ],
 "metadata": {
  "kernelspec": {
   "display_name": "Python 3",
   "language": "python",
   "name": "python3"
  },
  "language_info": {
   "codemirror_mode": {
    "name": "ipython",
    "version": 3
   },
   "file_extension": ".py",
   "mimetype": "text/x-python",
   "name": "python",
   "nbconvert_exporter": "python",
   "pygments_lexer": "ipython3",
   "version": "3.6.5"
  }
 },
 "nbformat": 4,
 "nbformat_minor": 2
}
