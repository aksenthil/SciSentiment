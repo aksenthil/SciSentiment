{
 "cells": [
  {
   "cell_type": "code",
   "execution_count": 1,
   "metadata": {},
   "outputs": [],
   "source": [
    "import pandas as pd\n",
    "import numpy as np\n",
    "from pandas import DataFrame\n",
    "import datetime\n",
    "import os\n",
    "import matplotlib.pyplot as plt\n",
    "import regex\n",
    "import re"
   ]
  },
  {
   "cell_type": "code",
   "execution_count": 2,
   "metadata": {},
   "outputs": [],
   "source": [
    "R_data=pd.read_csv(\"D:/HL/input_text_extraction.csv\")\n"
   ]
  },
  {
   "cell_type": "code",
   "execution_count": 3,
   "metadata": {},
   "outputs": [],
   "source": [
    "Dict=pd.read_csv(\"D:/HL/Keywords_v2.csv\",encoding = \"ISO-8859-1\")"
   ]
  },
  {
   "cell_type": "code",
   "execution_count": null,
   "metadata": {},
   "outputs": [],
   "source": [
    "Dict.shape"
   ]
  },
  {
   "cell_type": "code",
   "execution_count": 4,
   "metadata": {},
   "outputs": [],
   "source": [
    "Dict=Dict.drop_duplicates()"
   ]
  },
  {
   "cell_type": "code",
   "execution_count": null,
   "metadata": {
    "scrolled": true
   },
   "outputs": [],
   "source": [
    "R_data.head()"
   ]
  },
  {
   "cell_type": "code",
   "execution_count": null,
   "metadata": {},
   "outputs": [],
   "source": [
    "# R_data[R_data['customer business'].isnull()]"
   ]
  },
  {
   "cell_type": "code",
   "execution_count": null,
   "metadata": {},
   "outputs": [],
   "source": [
    "# R_data['business'] = R_data['Business Details'].str.cat(R_data['Business Profile'], sep =\" \") \n",
    "# R_data['customer business']=R_data['business'].str.cat(R_data['Personal Details'], sep =\" \")"
   ]
  },
  {
   "cell_type": "code",
   "execution_count": 5,
   "metadata": {},
   "outputs": [],
   "source": [
    "### CONVERTING TO LOWER CASE\n",
    "Dict['Key Words']=Dict['Key Words'].str.lower()"
   ]
  },
  {
   "cell_type": "code",
   "execution_count": 6,
   "metadata": {},
   "outputs": [
    {
     "data": {
      "text/plain": [
       "0    manufacturing\n",
       "1          trading\n",
       "2             shop\n",
       "3             milk\n",
       "4           retail\n",
       "Name: Key Words, dtype: object"
      ]
     },
     "execution_count": 6,
     "metadata": {},
     "output_type": "execute_result"
    }
   ],
   "source": [
    "### Removing Punctuation\n",
    "Dict['Key Words'] = Dict['Key Words'].str.replace('[^\\w\\s]','')\n",
    "Dict['Key Words'].head()"
   ]
  },
  {
   "cell_type": "code",
   "execution_count": 7,
   "metadata": {},
   "outputs": [
    {
     "data": {
      "text/plain": [
       "0    manufacturing\n",
       "1          trading\n",
       "2             shop\n",
       "3             milk\n",
       "4           retail\n",
       "Name: Key Words, dtype: object"
      ]
     },
     "execution_count": 7,
     "metadata": {},
     "output_type": "execute_result"
    }
   ],
   "source": [
    "### REMOVING UNWANTED SPACE\n",
    "Dict['Key Words'] = Dict['Key Words'].replace('\\s+', ' ', regex=True)\n",
    "Dict['Key Words'].head()"
   ]
  },
  {
   "cell_type": "code",
   "execution_count": 8,
   "metadata": {},
   "outputs": [
    {
     "data": {
      "text/plain": [
       "0    manufacturing\n",
       "1          trading\n",
       "2             shop\n",
       "3             milk\n",
       "4           retail\n",
       "Name: Key Words, dtype: object"
      ]
     },
     "execution_count": 8,
     "metadata": {},
     "output_type": "execute_result"
    }
   ],
   "source": [
    "### REMOVING UNWANTED SPACE\n",
    "Dict['Key Words'] = Dict['Key Words'].replace('\\s+', ' ', regex=True)\n",
    "Dict['Key Words'].head()"
   ]
  },
  {
   "cell_type": "code",
   "execution_count": 10,
   "metadata": {},
   "outputs": [],
   "source": [
    "L_Dict=Dict['Key Words'].tolist()\n"
   ]
  },
  {
   "cell_type": "code",
   "execution_count": null,
   "metadata": {},
   "outputs": [],
   "source": [
    "L_Dict"
   ]
  },
  {
   "cell_type": "code",
   "execution_count": 11,
   "metadata": {},
   "outputs": [],
   "source": [
    "### CONVERTING TO LOWER CASE\n",
    "R_data['customer business']=R_data['customer business'].str.lower()"
   ]
  },
  {
   "cell_type": "code",
   "execution_count": 12,
   "metadata": {},
   "outputs": [
    {
     "data": {
      "text/plain": [
       "0    applicant mr satyajeet kundra isinto business ...\n",
       "1    applicant mr shyam sunder tailor is doing the ...\n",
       "2    applicant  mr dharmender kumar is proprietor o...\n",
       "3    applicant is the native of madurai he is exarm...\n",
       "4    applicant mr kedar sharma is having the good a...\n",
       "Name: customer business, dtype: object"
      ]
     },
     "execution_count": 12,
     "metadata": {},
     "output_type": "execute_result"
    }
   ],
   "source": [
    "### Removing Punctuation\n",
    "R_data['customer business'] = R_data['customer business'].str.replace('[^\\w\\s]','')\n",
    "R_data['customer business'].head()"
   ]
  },
  {
   "cell_type": "code",
   "execution_count": 13,
   "metadata": {
    "scrolled": true
   },
   "outputs": [
    {
     "data": {
      "text/plain": [
       "0    applicant mr satyajeet kundra isinto business ...\n",
       "1    applicant mr shyam sunder tailor is doing the ...\n",
       "2    applicant mr dharmender kumar is proprietor of...\n",
       "3    applicant is the native of madurai he is exarm...\n",
       "4    applicant mr kedar sharma is having the good a...\n",
       "Name: customer business, dtype: object"
      ]
     },
     "execution_count": 13,
     "metadata": {},
     "output_type": "execute_result"
    }
   ],
   "source": [
    "### REMOVING UNWANTED SPACE\n",
    "R_data['customer business'] = R_data['customer business'].replace('\\s+', ' ', regex=True)\n",
    "R_data['customer business'].head()"
   ]
  },
  {
   "cell_type": "code",
   "execution_count": 14,
   "metadata": {},
   "outputs": [],
   "source": [
    "R_data['customer business']=R_data['customer business'].astype(str)"
   ]
  },
  {
   "cell_type": "code",
   "execution_count": 15,
   "metadata": {},
   "outputs": [],
   "source": [
    "#### lemmatization\n",
    "# from textblob import Word\n",
    "# R_data['customer business'] = R_data['business'].apply(lambda x: \" \".join([Word(word).lemmatize() for word in x.split()]))\n",
    "# R_data['customer business'].head()"
   ]
  },
  {
   "cell_type": "code",
   "execution_count": 16,
   "metadata": {},
   "outputs": [],
   "source": [
    "# raw_data=str(R_data['customer business'])\n",
    "# raw_data"
   ]
  },
  {
   "cell_type": "code",
   "execution_count": 17,
   "metadata": {},
   "outputs": [],
   "source": [
    "# R_data=R_data.dropna(subset=['Critical Observation']) \n",
    "# R_data.shape"
   ]
  },
  {
   "cell_type": "code",
   "execution_count": 18,
   "metadata": {},
   "outputs": [],
   "source": [
    "# s=R_data[['Lead.ID','customer business keywords','customer business']]\n",
    "# s.to_csv('D:/HL/identifying_customer_business.csv',index=False)"
   ]
  },
  {
   "cell_type": "code",
   "execution_count": 19,
   "metadata": {
    "scrolled": false
   },
   "outputs": [],
   "source": [
    "# R_data[R_data['Critical Observation'].apply(lambda x: x in Dict['Key Words']).tolist()]"
   ]
  },
  {
   "cell_type": "code",
   "execution_count": 20,
   "metadata": {},
   "outputs": [],
   "source": [
    "# f = lambda x: len(x['Key Words'].split(['Critical Observation'])) -1\n",
    "# R_data['Critical Observation'] = R_data.apply(f, axis=1)"
   ]
  },
  {
   "cell_type": "code",
   "execution_count": 21,
   "metadata": {},
   "outputs": [],
   "source": [
    "# df = R_data[R_data[\"Critical Observation\"].str.contains(\"sign\")]"
   ]
  },
  {
   "cell_type": "code",
   "execution_count": 22,
   "metadata": {},
   "outputs": [],
   "source": [
    "# R_data['customer business']=R_data['customer business'].astype(str)"
   ]
  },
  {
   "cell_type": "code",
   "execution_count": 23,
   "metadata": {
    "scrolled": true
   },
   "outputs": [],
   "source": [
    "# vv=re.split('(.*).coapplicant.(.*)',R_data['customer business'][23])\n",
    "# vv"
   ]
  },
  {
   "cell_type": "code",
   "execution_count": 24,
   "metadata": {},
   "outputs": [],
   "source": [
    "cols = 'applicant coapplicant'.split()\n",
    "R_data[cols]=R_data['customer business'].str.extract('(.*).(coapplicant..*)', expand=True)\n"
   ]
  },
  {
   "cell_type": "code",
   "execution_count": 26,
   "metadata": {
    "scrolled": true
   },
   "outputs": [
    {
     "data": {
      "text/html": [
       "<div>\n",
       "<style scoped>\n",
       "    .dataframe tbody tr th:only-of-type {\n",
       "        vertical-align: middle;\n",
       "    }\n",
       "\n",
       "    .dataframe tbody tr th {\n",
       "        vertical-align: top;\n",
       "    }\n",
       "\n",
       "    .dataframe thead th {\n",
       "        text-align: right;\n",
       "    }\n",
       "</style>\n",
       "<table border=\"1\" class=\"dataframe\">\n",
       "  <thead>\n",
       "    <tr style=\"text-align: right;\">\n",
       "      <th></th>\n",
       "      <th>Lead.ID</th>\n",
       "      <th>customer business</th>\n",
       "      <th>applicant</th>\n",
       "      <th>coapplicant</th>\n",
       "    </tr>\n",
       "  </thead>\n",
       "  <tbody>\n",
       "    <tr>\n",
       "      <th>0</th>\n",
       "      <td>e13c5efb-9fde-47b5-a</td>\n",
       "      <td>applicant mr satyajeet kundra isinto business ...</td>\n",
       "      <td>NaN</td>\n",
       "      <td>NaN</td>\n",
       "    </tr>\n",
       "    <tr>\n",
       "      <th>1</th>\n",
       "      <td>4bcfe6cc-c61a-4737-b</td>\n",
       "      <td>applicant mr shyam sunder tailor is doing the ...</td>\n",
       "      <td>applicant mr shyam sunder tailor is doing the ...</td>\n",
       "      <td>coapplicant mrs sunita tailor is the spouse of...</td>\n",
       "    </tr>\n",
       "    <tr>\n",
       "      <th>2</th>\n",
       "      <td>f19fb34d-da9b-4761-9</td>\n",
       "      <td>applicant mr dharmender kumar is proprietor of...</td>\n",
       "      <td>NaN</td>\n",
       "      <td>NaN</td>\n",
       "    </tr>\n",
       "    <tr>\n",
       "      <th>3</th>\n",
       "      <td>7b01275b-78e4-4c6d-a</td>\n",
       "      <td>applicant is the native of madurai he is exarm...</td>\n",
       "      <td>applicant is the native of madurai he is exarm...</td>\n",
       "      <td>coapplicant mrs m meenakshi aged 41 yrs they a...</td>\n",
       "    </tr>\n",
       "    <tr>\n",
       "      <th>4</th>\n",
       "      <td>aafb6f26-3f27-4940-a</td>\n",
       "      <td>applicant mr kedar sharma is having the good a...</td>\n",
       "      <td>NaN</td>\n",
       "      <td>NaN</td>\n",
       "    </tr>\n",
       "  </tbody>\n",
       "</table>\n",
       "</div>"
      ],
      "text/plain": [
       "                Lead.ID                                  customer business  \\\n",
       "0  e13c5efb-9fde-47b5-a  applicant mr satyajeet kundra isinto business ...   \n",
       "1  4bcfe6cc-c61a-4737-b  applicant mr shyam sunder tailor is doing the ...   \n",
       "2  f19fb34d-da9b-4761-9  applicant mr dharmender kumar is proprietor of...   \n",
       "3  7b01275b-78e4-4c6d-a  applicant is the native of madurai he is exarm...   \n",
       "4  aafb6f26-3f27-4940-a  applicant mr kedar sharma is having the good a...   \n",
       "\n",
       "                                           applicant  \\\n",
       "0                                                NaN   \n",
       "1  applicant mr shyam sunder tailor is doing the ...   \n",
       "2                                                NaN   \n",
       "3  applicant is the native of madurai he is exarm...   \n",
       "4                                                NaN   \n",
       "\n",
       "                                         coapplicant  \n",
       "0                                                NaN  \n",
       "1  coapplicant mrs sunita tailor is the spouse of...  \n",
       "2                                                NaN  \n",
       "3  coapplicant mrs m meenakshi aged 41 yrs they a...  \n",
       "4                                                NaN  "
      ]
     },
     "execution_count": 26,
     "metadata": {},
     "output_type": "execute_result"
    }
   ],
   "source": [
    "R_data.head()"
   ]
  },
  {
   "cell_type": "code",
   "execution_count": 27,
   "metadata": {},
   "outputs": [],
   "source": [
    "R_data['applicant']=np.where(R_data['applicant'].isnull(), R_data['customer business'],R_data['applicant'])"
   ]
  },
  {
   "cell_type": "code",
   "execution_count": 28,
   "metadata": {},
   "outputs": [],
   "source": [
    "R_data['applicant']=R_data['applicant'].astype(str)"
   ]
  },
  {
   "cell_type": "code",
   "execution_count": null,
   "metadata": {},
   "outputs": [],
   "source": [
    "# matches = regex.findall(pattern,y, regex.IGNORECASE)\n",
    "# matches = set(map(str.lower, regex.findall(pattern, y, regex.IGNORECASE)))"
   ]
  },
  {
   "cell_type": "code",
   "execution_count": 29,
   "metadata": {},
   "outputs": [
    {
     "name": "stdout",
     "output_type": "stream",
     "text": [
      "27423\n"
     ]
    }
   ],
   "source": [
    "data=[]\n",
    "pattern = r'\\b({})\\b'.format('|'.join(map(regex.escape, L_Dict)))\n",
    "# unique matches, lowercased\n",
    "for y in  R_data['applicant']:\n",
    "#         print(y)\n",
    "        matches = regex.findall(pattern,y, regex.IGNORECASE)\n",
    "#         temp = [x.upper() for x in L_Dict if x.lower() in matches]\n",
    "#         print(temp)  # ['TEST', 'MULTIPLE', 'MATCH']\n",
    "        \n",
    "        data.append(matches)\n",
    "print(len(data))\n",
    "R_data['Applicant business']=data"
   ]
  },
  {
   "cell_type": "code",
   "execution_count": 30,
   "metadata": {},
   "outputs": [],
   "source": [
    "\n",
    "R_data['coapplicant']=R_data['coapplicant'].astype(str)"
   ]
  },
  {
   "cell_type": "code",
   "execution_count": 31,
   "metadata": {},
   "outputs": [
    {
     "name": "stdout",
     "output_type": "stream",
     "text": [
      "27423\n"
     ]
    }
   ],
   "source": [
    "data=[]\n",
    "pattern = r'\\b({})\\b'.format('|'.join(map(regex.escape, L_Dict)))\n",
    "# unique matches, lowercased\n",
    "for y in  R_data['coapplicant']:\n",
    "#         print(y)\n",
    "        matches = regex.findall(pattern,y, regex.IGNORECASE)\n",
    "#         temp = [x.upper() for x in L_Dict if x.lower() in matches]\n",
    "#         print(temp)  # ['TEST', 'MULTIPLE', 'MATCH']\n",
    "        \n",
    "        data.append(matches)\n",
    "print(len(data))\n",
    "R_data['Co_applicant_business']=data"
   ]
  },
  {
   "cell_type": "code",
   "execution_count": 41,
   "metadata": {},
   "outputs": [
    {
     "data": {
      "text/html": [
       "<div>\n",
       "<style scoped>\n",
       "    .dataframe tbody tr th:only-of-type {\n",
       "        vertical-align: middle;\n",
       "    }\n",
       "\n",
       "    .dataframe tbody tr th {\n",
       "        vertical-align: top;\n",
       "    }\n",
       "\n",
       "    .dataframe thead th {\n",
       "        text-align: right;\n",
       "    }\n",
       "</style>\n",
       "<table border=\"1\" class=\"dataframe\">\n",
       "  <thead>\n",
       "    <tr style=\"text-align: right;\">\n",
       "      <th></th>\n",
       "      <th>Lead.ID</th>\n",
       "      <th>customer business</th>\n",
       "      <th>applicant</th>\n",
       "      <th>coapplicant</th>\n",
       "      <th>Applicant business</th>\n",
       "      <th>Co_applicant_business</th>\n",
       "      <th>First_business</th>\n",
       "      <th>Second_business</th>\n",
       "      <th>First_business_2</th>\n",
       "    </tr>\n",
       "  </thead>\n",
       "  <tbody>\n",
       "    <tr>\n",
       "      <th>0</th>\n",
       "      <td>e13c5efb-9fde-47b5-a</td>\n",
       "      <td>applicant mr satyajeet kundra isinto business ...</td>\n",
       "      <td>applicant mr satyajeet kundra isinto business ...</td>\n",
       "      <td>nan</td>\n",
       "      <td>[call, technologies, rented, industrial, call,...</td>\n",
       "      <td>[]</td>\n",
       "      <td>[call, technologies, rented]</td>\n",
       "      <td>[industrial, call, technologies, rented, indus...</td>\n",
       "      <td>call technologies rented</td>\n",
       "    </tr>\n",
       "    <tr>\n",
       "      <th>1</th>\n",
       "      <td>4bcfe6cc-c61a-4737-b</td>\n",
       "      <td>applicant mr shyam sunder tailor is doing the ...</td>\n",
       "      <td>applicant mr shyam sunder tailor is doing the ...</td>\n",
       "      <td>coapplicant mrs sunita tailor is the spouse of...</td>\n",
       "      <td>[tailor, job, stitching, dress, material, desi...</td>\n",
       "      <td>[tailor]</td>\n",
       "      <td>[tailor, job, stitching]</td>\n",
       "      <td>[dress, material, designer, job, salaried, sal...</td>\n",
       "      <td>tailor job stitching</td>\n",
       "    </tr>\n",
       "    <tr>\n",
       "      <th>2</th>\n",
       "      <td>f19fb34d-da9b-4761-9</td>\n",
       "      <td>applicant mr dharmender kumar is proprietor of...</td>\n",
       "      <td>applicant mr dharmender kumar is proprietor of...</td>\n",
       "      <td>nan</td>\n",
       "      <td>[manpower, supply, government, salary, manpowe...</td>\n",
       "      <td>[]</td>\n",
       "      <td>[manpower, supply, government]</td>\n",
       "      <td>[salary, manpower, supply, government, salary,...</td>\n",
       "      <td>manpower supply government</td>\n",
       "    </tr>\n",
       "    <tr>\n",
       "      <th>3</th>\n",
       "      <td>7b01275b-78e4-4c6d-a</td>\n",
       "      <td>applicant is the native of madurai he is exarm...</td>\n",
       "      <td>applicant is the native of madurai he is exarm...</td>\n",
       "      <td>coapplicant mrs m meenakshi aged 41 yrs they a...</td>\n",
       "      <td>[retired, army, service, army, travel, vehicle...</td>\n",
       "      <td>[kovil]</td>\n",
       "      <td>[retired, army, service]</td>\n",
       "      <td>[army, travel, vehicles, salaried, security, t...</td>\n",
       "      <td>retired army service</td>\n",
       "    </tr>\n",
       "    <tr>\n",
       "      <th>4</th>\n",
       "      <td>aafb6f26-3f27-4940-a</td>\n",
       "      <td>applicant mr kedar sharma is having the good a...</td>\n",
       "      <td>applicant mr kedar sharma is having the good a...</td>\n",
       "      <td>nan</td>\n",
       "      <td>[rental, rental, rented, educational, institut...</td>\n",
       "      <td>[]</td>\n",
       "      <td>[rental, rental, rented]</td>\n",
       "      <td>[educational, institute, rental, rental, renta...</td>\n",
       "      <td>rental rental rented</td>\n",
       "    </tr>\n",
       "  </tbody>\n",
       "</table>\n",
       "</div>"
      ],
      "text/plain": [
       "                Lead.ID                                  customer business  \\\n",
       "0  e13c5efb-9fde-47b5-a  applicant mr satyajeet kundra isinto business ...   \n",
       "1  4bcfe6cc-c61a-4737-b  applicant mr shyam sunder tailor is doing the ...   \n",
       "2  f19fb34d-da9b-4761-9  applicant mr dharmender kumar is proprietor of...   \n",
       "3  7b01275b-78e4-4c6d-a  applicant is the native of madurai he is exarm...   \n",
       "4  aafb6f26-3f27-4940-a  applicant mr kedar sharma is having the good a...   \n",
       "\n",
       "                                           applicant  \\\n",
       "0  applicant mr satyajeet kundra isinto business ...   \n",
       "1  applicant mr shyam sunder tailor is doing the ...   \n",
       "2  applicant mr dharmender kumar is proprietor of...   \n",
       "3  applicant is the native of madurai he is exarm...   \n",
       "4  applicant mr kedar sharma is having the good a...   \n",
       "\n",
       "                                         coapplicant  \\\n",
       "0                                                nan   \n",
       "1  coapplicant mrs sunita tailor is the spouse of...   \n",
       "2                                                nan   \n",
       "3  coapplicant mrs m meenakshi aged 41 yrs they a...   \n",
       "4                                                nan   \n",
       "\n",
       "                                  Applicant business Co_applicant_business  \\\n",
       "0  [call, technologies, rented, industrial, call,...                    []   \n",
       "1  [tailor, job, stitching, dress, material, desi...              [tailor]   \n",
       "2  [manpower, supply, government, salary, manpowe...                    []   \n",
       "3  [retired, army, service, army, travel, vehicle...               [kovil]   \n",
       "4  [rental, rental, rented, educational, institut...                    []   \n",
       "\n",
       "                   First_business  \\\n",
       "0    [call, technologies, rented]   \n",
       "1        [tailor, job, stitching]   \n",
       "2  [manpower, supply, government]   \n",
       "3        [retired, army, service]   \n",
       "4        [rental, rental, rented]   \n",
       "\n",
       "                                     Second_business  \\\n",
       "0  [industrial, call, technologies, rented, indus...   \n",
       "1  [dress, material, designer, job, salaried, sal...   \n",
       "2  [salary, manpower, supply, government, salary,...   \n",
       "3  [army, travel, vehicles, salaried, security, t...   \n",
       "4  [educational, institute, rental, rental, renta...   \n",
       "\n",
       "             First_business_2  \n",
       "0    call technologies rented  \n",
       "1        tailor job stitching  \n",
       "2  manpower supply government  \n",
       "3        retired army service  \n",
       "4        rental rental rented  "
      ]
     },
     "execution_count": 41,
     "metadata": {},
     "output_type": "execute_result"
    }
   ],
   "source": [
    "R_data.head()"
   ]
  },
  {
   "cell_type": "code",
   "execution_count": 33,
   "metadata": {},
   "outputs": [
    {
     "name": "stdout",
     "output_type": "stream",
     "text": [
      "27423\n"
     ]
    }
   ],
   "source": [
    "b1=[]\n",
    "b2=[]\n",
    "for y in  R_data['Applicant business']:\n",
    "    first=' '.join(y)\n",
    "    splitted = first.split()\n",
    "    b1_split=splitted[:3]\n",
    "    b2_split=splitted[3:]\n",
    "    b1.append(b1_split)\n",
    "    b2.append(b2_split)\n",
    "print(len(data))\n",
    "R_data['First_business']=b1\n",
    "R_data['Second_business']=b2"
   ]
  },
  {
   "cell_type": "code",
   "execution_count": 44,
   "metadata": {},
   "outputs": [
    {
     "data": {
      "text/plain": [
       "['agent',\n",
       " 'hr consulting',\n",
       " 'construction',\n",
       " 'electrical & electronic',\n",
       " 'agri based business',\n",
       " 'astrologer',\n",
       " 'auto driver',\n",
       " 'auto sparepart',\n",
       " 'textile manufacturing',\n",
       " 'beauty parlor',\n",
       " 'plumbing',\n",
       " 'labour contractor',\n",
       " 'hospital',\n",
       " 'manufacturing \\x96 other',\n",
       " 'cable contract',\n",
       " 'carpenter',\n",
       " 'tea stall',\n",
       " 'catering/canteen/tiffin',\n",
       " 'hotel/boarding/lodging',\n",
       " 'textile trading',\n",
       " 'centring',\n",
       " 'chicken/mutton/beef shop',\n",
       " 'cotton',\n",
       " 'cracker business',\n",
       " 'milk',\n",
       " 'designer shop',\n",
       " 'diamond/jewelry',\n",
       " 'doctor',\n",
       " 'driving school',\n",
       " 'embroidery job work',\n",
       " 'fabrication business',\n",
       " 'chits',\n",
       " 'fmcg distributor',\n",
       " 'fruit shop',\n",
       " 'job work',\n",
       " 'trader',\n",
       " 'furniture',\n",
       " 'garage',\n",
       " 'it',\n",
       " 'professional',\n",
       " 'salaried',\n",
       " 'transport/travels',\n",
       " 'painting contractor',\n",
       " 'lathe work',\n",
       " 'leather',\n",
       " 'mandi - other',\n",
       " 'medical store',\n",
       " 'multi services',\n",
       " 'musician',\n",
       " 'teacher',\n",
       " 'pan shop',\n",
       " 'photo studio',\n",
       " 'xerox/printing',\n",
       " 'provision store',\n",
       " 'rice trading',\n",
       " 'salaried- petrol bunk',\n",
       " 'sports/gym',\n",
       " 'stamp vendor',\n",
       " 'steel work',\n",
       " 'tailoring',\n",
       " 'tuition center',\n",
       " 'chilli trader',\n",
       " 'transport driver',\n",
       " 'vegetable',\n",
       " 'transport',\n",
       " 'travels',\n",
       " 'driver',\n",
       " 'tailor ',\n",
       " 'manpower supply']"
      ]
     },
     "execution_count": 44,
     "metadata": {},
     "output_type": "execute_result"
    }
   ],
   "source": [
    "d2"
   ]
  },
  {
   "cell_type": "code",
   "execution_count": 35,
   "metadata": {},
   "outputs": [],
   "source": [
    "d2= pd.read_csv(\"D:/HL/business_kw.csv\",encoding = \"ISO-8859-1\")"
   ]
  },
  {
   "cell_type": "code",
   "execution_count": 36,
   "metadata": {},
   "outputs": [],
   "source": [
    "d2['Profile']=d2['Profile'].str.lower()"
   ]
  },
  {
   "cell_type": "code",
   "execution_count": 37,
   "metadata": {},
   "outputs": [],
   "source": [
    "d2=d2.drop_duplicates()"
   ]
  },
  {
   "cell_type": "code",
   "execution_count": 38,
   "metadata": {},
   "outputs": [],
   "source": [
    "b3=[]\n",
    "for y in  R_data['First_business']:\n",
    "    business=' '.join(y)\n",
    "    b3.append(business)\n",
    "R_data['First_business_2']=b3"
   ]
  },
  {
   "cell_type": "code",
   "execution_count": 42,
   "metadata": {},
   "outputs": [
    {
     "name": "stdout",
     "output_type": "stream",
     "text": [
      "27423\n"
     ]
    }
   ],
   "source": [
    "data=[]\n",
    "pattern = r'\\b({})\\b'.format('|'.join(map(regex.escape, d2)))\n",
    "# unique matches, lowercased\n",
    "for y in  R_data['First_business_2']:\n",
    "#         print(y)\n",
    "        matches = regex.findall(pattern,y, regex.IGNORECASE)\n",
    "#         temp = [x.upper() for x in L_Dict if x.lower() in matches]\n",
    "#         print(temp)  # ['TEST', 'MULTIPLE', 'MATCH']\n",
    "        \n",
    "        data.append(matches)\n",
    "print(len(data))\n",
    "R_data['Identified_business']=data"
   ]
  },
  {
   "cell_type": "code",
   "execution_count": 43,
   "metadata": {},
   "outputs": [
    {
     "data": {
      "text/html": [
       "<div>\n",
       "<style scoped>\n",
       "    .dataframe tbody tr th:only-of-type {\n",
       "        vertical-align: middle;\n",
       "    }\n",
       "\n",
       "    .dataframe tbody tr th {\n",
       "        vertical-align: top;\n",
       "    }\n",
       "\n",
       "    .dataframe thead th {\n",
       "        text-align: right;\n",
       "    }\n",
       "</style>\n",
       "<table border=\"1\" class=\"dataframe\">\n",
       "  <thead>\n",
       "    <tr style=\"text-align: right;\">\n",
       "      <th></th>\n",
       "      <th>Lead.ID</th>\n",
       "      <th>customer business</th>\n",
       "      <th>applicant</th>\n",
       "      <th>coapplicant</th>\n",
       "      <th>Applicant business</th>\n",
       "      <th>Co_applicant_business</th>\n",
       "      <th>First_business</th>\n",
       "      <th>Second_business</th>\n",
       "      <th>First_business_2</th>\n",
       "      <th>Identified_business</th>\n",
       "    </tr>\n",
       "  </thead>\n",
       "  <tbody>\n",
       "    <tr>\n",
       "      <th>0</th>\n",
       "      <td>e13c5efb-9fde-47b5-a</td>\n",
       "      <td>applicant mr satyajeet kundra isinto business ...</td>\n",
       "      <td>applicant mr satyajeet kundra isinto business ...</td>\n",
       "      <td>nan</td>\n",
       "      <td>[call, technologies, rented, industrial, call,...</td>\n",
       "      <td>[]</td>\n",
       "      <td>[call, technologies, rented]</td>\n",
       "      <td>[industrial, call, technologies, rented, indus...</td>\n",
       "      <td>call technologies rented</td>\n",
       "      <td>[]</td>\n",
       "    </tr>\n",
       "    <tr>\n",
       "      <th>1</th>\n",
       "      <td>4bcfe6cc-c61a-4737-b</td>\n",
       "      <td>applicant mr shyam sunder tailor is doing the ...</td>\n",
       "      <td>applicant mr shyam sunder tailor is doing the ...</td>\n",
       "      <td>coapplicant mrs sunita tailor is the spouse of...</td>\n",
       "      <td>[tailor, job, stitching, dress, material, desi...</td>\n",
       "      <td>[tailor]</td>\n",
       "      <td>[tailor, job, stitching]</td>\n",
       "      <td>[dress, material, designer, job, salaried, sal...</td>\n",
       "      <td>tailor job stitching</td>\n",
       "      <td>[tailor ]</td>\n",
       "    </tr>\n",
       "    <tr>\n",
       "      <th>2</th>\n",
       "      <td>f19fb34d-da9b-4761-9</td>\n",
       "      <td>applicant mr dharmender kumar is proprietor of...</td>\n",
       "      <td>applicant mr dharmender kumar is proprietor of...</td>\n",
       "      <td>nan</td>\n",
       "      <td>[manpower, supply, government, salary, manpowe...</td>\n",
       "      <td>[]</td>\n",
       "      <td>[manpower, supply, government]</td>\n",
       "      <td>[salary, manpower, supply, government, salary,...</td>\n",
       "      <td>manpower supply government</td>\n",
       "      <td>[manpower supply]</td>\n",
       "    </tr>\n",
       "    <tr>\n",
       "      <th>3</th>\n",
       "      <td>7b01275b-78e4-4c6d-a</td>\n",
       "      <td>applicant is the native of madurai he is exarm...</td>\n",
       "      <td>applicant is the native of madurai he is exarm...</td>\n",
       "      <td>coapplicant mrs m meenakshi aged 41 yrs they a...</td>\n",
       "      <td>[retired, army, service, army, travel, vehicle...</td>\n",
       "      <td>[kovil]</td>\n",
       "      <td>[retired, army, service]</td>\n",
       "      <td>[army, travel, vehicles, salaried, security, t...</td>\n",
       "      <td>retired army service</td>\n",
       "      <td>[]</td>\n",
       "    </tr>\n",
       "    <tr>\n",
       "      <th>4</th>\n",
       "      <td>aafb6f26-3f27-4940-a</td>\n",
       "      <td>applicant mr kedar sharma is having the good a...</td>\n",
       "      <td>applicant mr kedar sharma is having the good a...</td>\n",
       "      <td>nan</td>\n",
       "      <td>[rental, rental, rented, educational, institut...</td>\n",
       "      <td>[]</td>\n",
       "      <td>[rental, rental, rented]</td>\n",
       "      <td>[educational, institute, rental, rental, renta...</td>\n",
       "      <td>rental rental rented</td>\n",
       "      <td>[]</td>\n",
       "    </tr>\n",
       "  </tbody>\n",
       "</table>\n",
       "</div>"
      ],
      "text/plain": [
       "                Lead.ID                                  customer business  \\\n",
       "0  e13c5efb-9fde-47b5-a  applicant mr satyajeet kundra isinto business ...   \n",
       "1  4bcfe6cc-c61a-4737-b  applicant mr shyam sunder tailor is doing the ...   \n",
       "2  f19fb34d-da9b-4761-9  applicant mr dharmender kumar is proprietor of...   \n",
       "3  7b01275b-78e4-4c6d-a  applicant is the native of madurai he is exarm...   \n",
       "4  aafb6f26-3f27-4940-a  applicant mr kedar sharma is having the good a...   \n",
       "\n",
       "                                           applicant  \\\n",
       "0  applicant mr satyajeet kundra isinto business ...   \n",
       "1  applicant mr shyam sunder tailor is doing the ...   \n",
       "2  applicant mr dharmender kumar is proprietor of...   \n",
       "3  applicant is the native of madurai he is exarm...   \n",
       "4  applicant mr kedar sharma is having the good a...   \n",
       "\n",
       "                                         coapplicant  \\\n",
       "0                                                nan   \n",
       "1  coapplicant mrs sunita tailor is the spouse of...   \n",
       "2                                                nan   \n",
       "3  coapplicant mrs m meenakshi aged 41 yrs they a...   \n",
       "4                                                nan   \n",
       "\n",
       "                                  Applicant business Co_applicant_business  \\\n",
       "0  [call, technologies, rented, industrial, call,...                    []   \n",
       "1  [tailor, job, stitching, dress, material, desi...              [tailor]   \n",
       "2  [manpower, supply, government, salary, manpowe...                    []   \n",
       "3  [retired, army, service, army, travel, vehicle...               [kovil]   \n",
       "4  [rental, rental, rented, educational, institut...                    []   \n",
       "\n",
       "                   First_business  \\\n",
       "0    [call, technologies, rented]   \n",
       "1        [tailor, job, stitching]   \n",
       "2  [manpower, supply, government]   \n",
       "3        [retired, army, service]   \n",
       "4        [rental, rental, rented]   \n",
       "\n",
       "                                     Second_business  \\\n",
       "0  [industrial, call, technologies, rented, indus...   \n",
       "1  [dress, material, designer, job, salaried, sal...   \n",
       "2  [salary, manpower, supply, government, salary,...   \n",
       "3  [army, travel, vehicles, salaried, security, t...   \n",
       "4  [educational, institute, rental, rental, renta...   \n",
       "\n",
       "             First_business_2 Identified_business  \n",
       "0    call technologies rented                  []  \n",
       "1        tailor job stitching           [tailor ]  \n",
       "2  manpower supply government   [manpower supply]  \n",
       "3        retired army service                  []  \n",
       "4        rental rental rented                  []  "
      ]
     },
     "execution_count": 43,
     "metadata": {},
     "output_type": "execute_result"
    }
   ],
   "source": [
    "R_data.head()"
   ]
  },
  {
   "cell_type": "code",
   "execution_count": null,
   "metadata": {},
   "outputs": [],
   "source": [
    "R_data.to_csv('D:/HL/Applicant_coapplicant_business_information22.csv',index=False)"
   ]
  },
  {
   "cell_type": "code",
   "execution_count": null,
   "metadata": {},
   "outputs": [],
   "source": []
  }
 ],
 "metadata": {
  "kernelspec": {
   "display_name": "Python 3",
   "language": "python",
   "name": "python3"
  },
  "language_info": {
   "codemirror_mode": {
    "name": "ipython",
    "version": 3
   },
   "file_extension": ".py",
   "mimetype": "text/x-python",
   "name": "python",
   "nbconvert_exporter": "python",
   "pygments_lexer": "ipython3",
   "version": "3.6.5"
  }
 },
 "nbformat": 4,
 "nbformat_minor": 2
}
