{
 "cells": [
  {
   "cell_type": "code",
   "execution_count": 38,
   "metadata": {},
   "outputs": [
    {
     "name": "stdout",
     "output_type": "stream",
     "text": [
      "Mean Absolute Error: 51.76500000000001\n",
      "Mean Squared Error: 4216.166749999999\n",
      "Root Mean Squared Error: 64.93201637097064\n"
     ]
    }
   ],
   "source": [
    "import pandas as pd\n",
    "import numpy as np\n",
    "dataset = pd.read_csv('E:/sample_example/petrol_consumption.csv')\n",
    "X = dataset.iloc[:, 0:4].values\n",
    "y = dataset.iloc[:, 4].values\n",
    "from sklearn.model_selection import train_test_split\n",
    "X_train, X_test, y_train, y_test = train_test_split(X, y, test_size=0.2, random_state=0)\n",
    "# Feature Scaling\n",
    "from sklearn.preprocessing import StandardScaler\n",
    "\n",
    "sc = StandardScaler()\n",
    "X_train = sc.fit_transform(X_train)\n",
    "X_test = sc.transform(X_test)\n",
    "from sklearn.ensemble import RandomForestRegressor\n",
    "\n",
    "regressor = RandomForestRegressor(n_estimators=20, random_state=0)\n",
    "regressor.fit(X_train, y_train)\n",
    "y_pred = regressor.predict(X_test)\n",
    "from sklearn import metrics\n",
    "print('Mean Absolute Error:', metrics.mean_absolute_error(y_test, y_pred))\n",
    "print('Mean Squared Error:', metrics.mean_squared_error(y_test, y_pred))\n",
    "print('Root Mean Squared Error:', np.sqrt(metrics.mean_squared_error(y_test, y_pred)))"
   ]
  },
  {
   "cell_type": "code",
   "execution_count": 37,
   "metadata": {},
   "outputs": [
    {
     "name": "stdout",
     "output_type": "stream",
     "text": [
      "Accuracy: 99.27%\n"
     ]
    }
   ],
   "source": [
    "# load data\n",
    "dataset = pd.read_csv(\"C:/Users/s2759/Downloads/bill_authentication/bill_authentication.csv\")\n",
    "# split data\n",
    "from sklearn.model_selection import train_test_split\n",
    "X = dataset.iloc[:, 0:4].values\n",
    "y = dataset.iloc[:, 4].values\n",
    "\n",
    "# split data into train and test sets\n",
    "X_train, X_test, y_train, y_test = train_test_split(X, y, test_size=0.2, random_state=0)\n",
    "\n",
    "# Feature Scaling\n",
    "from sklearn.preprocessing import StandardScaler\n",
    "sc = StandardScaler()\n",
    "X_train = sc.fit_transform(X_train)\n",
    "X_test = sc.transform(X_test)\n",
    "\n",
    "# fit model\n",
    "from sklearn.ensemble import RandomForestRegressor\n",
    "regressor = RandomForestRegressor(n_estimators=20, random_state=0)\n",
    "regressor.fit(X_train, y_train)\n",
    "\n",
    "# make predictions for test data\n",
    "y_pred = regressor.predict(X_test)\n",
    "predictions = [round(value) for value in y_pred]\n",
    "\n",
    "# evaluate predictions\n",
    "from sklearn.metrics import accuracy_score\n",
    "accuracy=accuracy_score(y_test,predictions)\n",
    "print(\"Accuracy: %.2f%%\" % (accuracy * 100.0))"
   ]
  },
  {
   "cell_type": "code",
   "execution_count": 22,
   "metadata": {},
   "outputs": [],
   "source": []
  },
  {
   "cell_type": "code",
   "execution_count": null,
   "metadata": {},
   "outputs": [],
   "source": []
  },
  {
   "cell_type": "code",
   "execution_count": 26,
   "metadata": {},
   "outputs": [],
   "source": []
  },
  {
   "cell_type": "code",
   "execution_count": 27,
   "metadata": {
    "collapsed": true
   },
   "outputs": [
    {
     "data": {
      "text/plain": [
       "array([1.  , 0.  , 1.  , 0.  , 0.  , 0.  , 0.  , 0.  , 1.  , 1.  , 0.  ,\n",
       "       0.  , 1.  , 0.  , 0.  , 0.  , 1.  , 1.  , 0.  , 0.  , 1.  , 0.  ,\n",
       "       0.  , 1.  , 0.  , 1.  , 0.  , 1.  , 0.  , 0.  , 1.  , 0.  , 1.  ,\n",
       "       1.  , 1.  , 0.  , 0.  , 1.  , 0.95, 1.  , 0.  , 1.  , 0.  , 0.  ,\n",
       "       1.  , 1.  , 0.  , 0.  , 1.  , 0.  , 0.  , 1.  , 0.1 , 1.  , 1.  ,\n",
       "       0.  , 1.  , 1.  , 0.  , 1.  , 1.  , 0.  , 0.  , 0.  , 0.  , 1.  ,\n",
       "       1.  , 1.  , 0.95, 0.  , 0.85, 0.  , 1.  , 0.  , 0.  , 1.  , 0.  ,\n",
       "       0.  , 0.  , 0.  , 1.  , 1.  , 0.  , 0.  , 1.  , 1.  , 0.  , 0.  ,\n",
       "       0.  , 0.  , 0.  , 1.  , 1.  , 0.95, 1.  , 0.  , 0.  , 0.  , 1.  ,\n",
       "       1.  , 0.  , 1.  , 0.  , 0.  , 0.  , 1.  , 0.  , 1.  , 1.  , 1.  ,\n",
       "       0.  , 1.  , 0.  , 0.  , 1.  , 0.  , 0.  , 0.  , 1.  , 1.  , 0.  ,\n",
       "       0.  , 1.  , 1.  , 0.55, 1.  , 1.  , 0.  , 0.55, 0.  , 0.  , 0.  ,\n",
       "       0.  , 0.  , 0.  , 1.  , 0.  , 0.  , 0.  , 0.  , 1.  , 0.  , 1.  ,\n",
       "       1.  , 0.  , 0.  , 1.  , 0.  , 0.  , 1.  , 0.1 , 0.  , 0.  , 0.  ,\n",
       "       1.  , 0.  , 0.95, 0.  , 1.  , 0.  , 0.  , 1.  , 0.  , 1.  , 0.  ,\n",
       "       1.  , 1.  , 0.  , 1.  , 1.  , 0.  , 1.  , 1.  , 1.  , 1.  , 0.  ,\n",
       "       0.  , 0.  , 1.  , 0.95, 0.  , 1.  , 0.  , 0.  , 0.1 , 1.  , 0.  ,\n",
       "       1.  , 0.95, 0.  , 0.  , 0.  , 1.  , 0.  , 1.  , 0.  , 0.  , 0.  ,\n",
       "       1.  , 1.  , 0.  , 0.  , 0.  , 0.  , 0.  , 0.  , 0.  , 0.  , 0.95,\n",
       "       0.  , 0.  , 1.  , 0.  , 0.  , 0.  , 1.  , 0.65, 0.  , 0.  , 0.  ,\n",
       "       0.  , 0.  , 0.  , 0.  , 0.  , 1.  , 0.95, 0.  , 0.  , 0.  , 0.  ,\n",
       "       1.  , 1.  , 0.  , 1.  , 1.  , 0.  , 0.  , 1.  , 1.  , 0.  , 1.  ,\n",
       "       1.  , 0.  , 0.85, 0.  , 0.  , 0.  , 0.  , 0.  , 0.5 , 1.  , 0.9 ,\n",
       "       1.  , 1.  , 0.  , 0.  , 1.  , 1.  , 0.95, 0.  , 0.  , 0.  , 1.  ,\n",
       "       0.  , 0.  , 1.  , 0.85, 0.  , 1.  , 1.  , 0.05, 1.  , 0.9 , 0.95])"
      ]
     },
     "execution_count": 27,
     "metadata": {},
     "output_type": "execute_result"
    }
   ],
   "source": []
  },
  {
   "cell_type": "code",
   "execution_count": 34,
   "metadata": {},
   "outputs": [
    {
     "name": "stdout",
     "output_type": "stream",
     "text": [
      "Accuracy: 99.27%\n"
     ]
    }
   ],
   "source": []
  }
 ],
 "metadata": {
  "kernelspec": {
   "display_name": "Python 3",
   "language": "python",
   "name": "python3"
  },
  "language_info": {
   "codemirror_mode": {
    "name": "ipython",
    "version": 3
   },
   "file_extension": ".py",
   "mimetype": "text/x-python",
   "name": "python",
   "nbconvert_exporter": "python",
   "pygments_lexer": "ipython3",
   "version": "3.6.5"
  }
 },
 "nbformat": 4,
 "nbformat_minor": 2
}
