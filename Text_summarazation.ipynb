{
 "cells": [
  {
   "cell_type": "code",
   "execution_count": 2,
   "metadata": {
    "scrolled": true
   },
   "outputs": [
    {
     "name": "stdout",
     "output_type": "stream",
     "text": [
      "Across the pages\n",
      "Corporate Overview 2 Œ 14\n",
      "  About Us 2 Driving resilience and stability   4 Driving resilience and stability with  robust business model and asset mix 6 Driving resilience and stability by \n",
      " \n",
      " 8 Driving resilience and stability  10 Key Performance Indicators\n",
      " 12\n",
      "14Investor information \n",
      " \n",
      "` 12,210 crores as at March 31, 2019   CIN L65191TN1986PLC012840 BSE Code 532498 NSE Symbol\n",
      " SHRIRAMCIT Bloomberg Code SCUF:IN Dividend Declared `  AGM Date\n",
      " July 29, 2019 AGM Venue\n",
      " Narada Gana Sabha \n",
      "   No. 314 , T. T K. Road, \n",
      " Statutory Reports 15 Œ 83\n",
      " 15\n",
      "23 Management Discussion and Analysis 38Financial Section 84 Œ 319\n",
      "  Standalone 84 Consolidated 200https://www.shriramcity.in/index.aspx\n",
      "Or simply scan to download:Disclaimer\n",
      "\n",
      "\n",
      "\n",
      "\n",
      "20.22%Yield KPIs for 2018-19\n"
     ]
    }
   ],
   "source": [
    "# Import libraries\n",
    "import PyPDF2 \n",
    "# Creating a pdf file object \n",
    "input_pdf = open('E:/Text_summarise/Scuf.pdf', 'rb') \n",
    "# creating a pdf reader object \n",
    "pdfReader = PyPDF2.PdfFileReader(input_pdf) \n",
    "# Creating a page object \n",
    "get_page = pdfReader.getPage(1) \n",
    "# Extracting text from page \n",
    "data=get_page.extractText()\n",
    "print(data)"
   ]
  },
  {
   "cell_type": "code",
   "execution_count": 15,
   "metadata": {},
   "outputs": [],
   "source": [
    "import PyPDF2\n"
   ]
  },
  {
   "cell_type": "code",
   "execution_count": 17,
   "metadata": {},
   "outputs": [],
   "source": [
    "from pdfminer.pdfinterp import PDFResourceManager, PDFPageInterpreter\n",
    "from pdfminer.layout import LAParams\n",
    "from pdfminer.pdfpage import PDFPage\n"
   ]
  },
  {
   "cell_type": "code",
   "execution_count": 33,
   "metadata": {},
   "outputs": [
    {
     "ename": "ModuleNotFoundError",
     "evalue": "No module named '__main__.p_02_paying_debt_off_in_a_year'; '__main__' is not a package",
     "output_type": "error",
     "traceback": [
      "\u001b[1;31m---------------------------------------------------------------------------\u001b[0m",
      "\u001b[1;31mModuleNotFoundError\u001b[0m                       Traceback (most recent call last)",
      "\u001b[1;32m<ipython-input-33-c432888f4e4c>\u001b[0m in \u001b[0;36m<module>\u001b[1;34m\u001b[0m\n\u001b[1;32m----> 1\u001b[1;33m \u001b[1;32mfrom\u001b[0m \u001b[0m__main__\u001b[0m\u001b[1;33m.\u001b[0m\u001b[0mp_02_paying_debt_off_in_a_year\u001b[0m \u001b[1;32mimport\u001b[0m \u001b[0mcompute_balance_after\u001b[0m\u001b[1;33m\u001b[0m\u001b[1;33m\u001b[0m\u001b[0m\n\u001b[0m",
      "\u001b[1;31mModuleNotFoundError\u001b[0m: No module named '__main__.p_02_paying_debt_off_in_a_year'; '__main__' is not a package"
     ]
    }
   ],
   "source": [
    "from __main__.p_02_paying_debt_off_in_a_year import compute_balance_after"
   ]
  },
  {
   "cell_type": "code",
   "execution_count": 31,
   "metadata": {},
   "outputs": [
    {
     "ename": "ModuleNotFoundError",
     "evalue": "No module named '__main__.utils'; '__main__' is not a package",
     "output_type": "error",
     "traceback": [
      "\u001b[1;31m---------------------------------------------------------------------------\u001b[0m",
      "\u001b[1;31mModuleNotFoundError\u001b[0m                       Traceback (most recent call last)",
      "\u001b[1;32m<ipython-input-31-e333ad1e1be3>\u001b[0m in \u001b[0;36m<module>\u001b[1;34m\u001b[0m\n\u001b[1;32m----> 1\u001b[1;33m \u001b[1;32mfrom\u001b[0m \u001b[1;33m.\u001b[0m\u001b[0mutils\u001b[0m \u001b[1;32mimport\u001b[0m \u001b[0menc\u001b[0m\u001b[1;33m\u001b[0m\u001b[1;33m\u001b[0m\u001b[0m\n\u001b[0m\u001b[0;32m      2\u001b[0m \u001b[1;32mfrom\u001b[0m \u001b[0mpdfminer\u001b[0m\u001b[1;33m.\u001b[0m\u001b[0mconverter\u001b[0m \u001b[1;32mimport\u001b[0m \u001b[0mTextConverter\u001b[0m\u001b[1;33m\u001b[0m\u001b[1;33m\u001b[0m\u001b[0m\n",
      "\u001b[1;31mModuleNotFoundError\u001b[0m: No module named '__main__.utils'; '__main__' is not a package"
     ]
    }
   ],
   "source": [
    "from .utils import enc\n",
    "from pdfminer.converter import TextConverter"
   ]
  },
  {
   "cell_type": "code",
   "execution_count": 18,
   "metadata": {},
   "outputs": [],
   "source": [
    "from io import StringIO"
   ]
  },
  {
   "cell_type": "code",
   "execution_count": 25,
   "metadata": {},
   "outputs": [
    {
     "ename": "NameError",
     "evalue": "name 'pdfminer' is not defined",
     "output_type": "error",
     "traceback": [
      "\u001b[1;31m---------------------------------------------------------------------------\u001b[0m",
      "\u001b[1;31mNameError\u001b[0m                                 Traceback (most recent call last)",
      "\u001b[1;32m<ipython-input-25-61fdf4f2fefb>\u001b[0m in \u001b[0;36m<module>\u001b[1;34m\u001b[0m\n\u001b[0;32m     11\u001b[0m   \u001b[0mcodec\u001b[0m \u001b[1;33m=\u001b[0m \u001b[1;34m'utf-8'\u001b[0m\u001b[1;33m\u001b[0m\u001b[1;33m\u001b[0m\u001b[0m\n\u001b[0;32m     12\u001b[0m   \u001b[0mlaparams\u001b[0m \u001b[1;33m=\u001b[0m \u001b[0mLAParams\u001b[0m\u001b[1;33m(\u001b[0m\u001b[1;33m)\u001b[0m\u001b[1;33m\u001b[0m\u001b[1;33m\u001b[0m\u001b[0m\n\u001b[1;32m---> 13\u001b[1;33m   \u001b[0mdevice\u001b[0m \u001b[1;33m=\u001b[0m \u001b[0mpdfminer\u001b[0m\u001b[1;33m.\u001b[0m\u001b[0mconverter\u001b[0m\u001b[1;33m.\u001b[0m\u001b[0mTextConverter\u001b[0m\u001b[1;33m(\u001b[0m\u001b[0mrsrcmgr\u001b[0m\u001b[1;33m,\u001b[0m \u001b[0mretstr\u001b[0m\u001b[1;33m,\u001b[0m \u001b[0mcodec\u001b[0m\u001b[1;33m=\u001b[0m\u001b[0mcodec\u001b[0m\u001b[1;33m,\u001b[0m \u001b[0mlaparams\u001b[0m\u001b[1;33m=\u001b[0m\u001b[0mlaparams\u001b[0m\u001b[1;33m)\u001b[0m\u001b[1;33m\u001b[0m\u001b[1;33m\u001b[0m\u001b[0m\n\u001b[0m\u001b[0;32m     14\u001b[0m   \u001b[0minterpreter\u001b[0m \u001b[1;33m=\u001b[0m \u001b[0mPDFPageInterpreter\u001b[0m\u001b[1;33m(\u001b[0m\u001b[0mrsrcmgr\u001b[0m\u001b[1;33m,\u001b[0m \u001b[0mdevice\u001b[0m\u001b[1;33m)\u001b[0m\u001b[1;33m\u001b[0m\u001b[1;33m\u001b[0m\u001b[0m\n\u001b[0;32m     15\u001b[0m   \u001b[0mpassword\u001b[0m \u001b[1;33m=\u001b[0m \u001b[1;34m\"\"\u001b[0m\u001b[1;33m\u001b[0m\u001b[1;33m\u001b[0m\u001b[0m\n",
      "\u001b[1;31mNameError\u001b[0m: name 'pdfminer' is not defined"
     ]
    }
   ],
   "source": [
    "path = \"E:/Text_summarise/Scuf.pdf\"\n",
    "pdf = PyPDF2.PdfFileReader(open(path, \"rb\"))\n",
    "fp = open(path, 'rb')\n",
    "num_of_pages = pdf.getNumPages()\n",
    "extract = \"\"\n",
    "for i in range(num_of_pages):\n",
    "  inside = [i]\n",
    "  pagenos=set(inside)\n",
    "  rsrcmgr = PDFResourceManager()\n",
    "  retstr = StringIO()\n",
    "  codec = 'utf-8'\n",
    "  laparams = LAParams()\n",
    "  device = pdfminer.converter.TextConverter(rsrcmgr, retstr, codec=codec, laparams=laparams)\n",
    "  interpreter = PDFPageInterpreter(rsrcmgr, device)\n",
    "  password = \"\"\n",
    "  maxpages = 0\n",
    "  caching = True\n",
    "  text = \"\"\n",
    "  for page in PDFPage.get_pages(fp, pagenos, maxpages=maxpages, password=password,caching=caching, check_extractable=True):\n",
    "    interpreter.process_page(page)\n",
    "    text = retstr.getvalue()\n",
    "    text = text.decode(\"ascii\",\"replace\")\n",
    "    if re.search(r\"to be held (at|on)\",text.lower()):\n",
    "        print(text)\n",
    "        extract = extract + text + \"\\n\" \n",
    "        continue"
   ]
  }
 ],
 "metadata": {
  "kernelspec": {
   "display_name": "Python 3",
   "language": "python",
   "name": "python3"
  },
  "language_info": {
   "codemirror_mode": {
    "name": "ipython",
    "version": 3
   },
   "file_extension": ".py",
   "mimetype": "text/x-python",
   "name": "python",
   "nbconvert_exporter": "python",
   "pygments_lexer": "ipython3",
   "version": "3.7.3"
  }
 },
 "nbformat": 4,
 "nbformat_minor": 2
}
