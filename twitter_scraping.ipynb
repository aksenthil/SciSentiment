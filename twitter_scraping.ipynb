{
 "cells": [
  {
   "cell_type": "code",
   "execution_count": 16,
   "metadata": {},
   "outputs": [],
   "source": [
    "# Importing libraries\n",
    "import os\n",
    "import tweepy as tw\n",
    "import pandas as pd"
   ]
  },
  {
   "cell_type": "code",
   "execution_count": 17,
   "metadata": {},
   "outputs": [],
   "source": [
    "consumer_key = \"Biksk5fY0Pv78TTTv8w7h3DVX\" \n",
    "consumer_secret = \"rKtgEOB91STrjqTAKNKUTBOjy1umYbQC8ZnLk65smTe6BazvOv\"\n",
    "access_token = \"558513647-AqGPbSABbRXL6N0Y7ppqCEL6QlWT3ZyGN2NJCDe8\"\n",
    "access_token_secret = \"HgrHOgPz7gz0Gc7VRrnD6oeyY1yEKFdTkcLxUaBaLDXfC\""
   ]
  },
  {
   "cell_type": "code",
   "execution_count": 18,
   "metadata": {},
   "outputs": [],
   "source": [
    "auth = tw.OAuthHandler(consumer_key, consumer_secret)\n",
    "auth.set_access_token(access_token, access_token_secret)\n",
    "api = tw.API(auth, wait_on_rate_limit=True)\n"
   ]
  },
  {
   "cell_type": "code",
   "execution_count": 19,
   "metadata": {},
   "outputs": [],
   "source": [
    "search_words = \"#COVIDー19\"\n",
    "date_since = \"2019-01-16\""
   ]
  },
  {
   "cell_type": "code",
   "execution_count": 20,
   "metadata": {
    "scrolled": false
   },
   "outputs": [],
   "source": [
    "import json\n",
    "from pandas.io.json import json_normalize\n",
    "tweets = tw.Cursor(api.search,q=search_words,lang=\"en\",since=date_since).items(3000)\n",
    "# Iterating\n",
    "\"\"\"ls = []\n",
    "for tweet in tweets:\n",
    "    RW= tweet\n",
    "    ls.append(RW)\n",
    "    js = json.dumps(tweet._json)\n",
    "    #js = json.dumps(js)\n",
    "    #d1 = dict(js)\n",
    "print(pd.io.json.json_normalize(js))\n",
    "\"\"\"\n",
    "\n",
    "followers = list(tweets)\n",
    "\n",
    "# function to convert _json to JSON\n",
    "def jsonify_tweepy(tweepy_object):\n",
    "    json_str = json.dumps(tweepy_object._json)\n",
    "    return json.loads(json_str)\n",
    "\n",
    "# Call the function and unload each _json into follower_list\n",
    "followers_list = [jsonify_tweepy(follower) for follower in followers]\n",
    "\n",
    "# Convert followers_list to a pandas dataframe\n",
    "df = json_normalize(followers_list)\n",
    "\n",
    "\n",
    "df.to_csv(\"COVID.csv\")\n"
   ]
  }
 ],
 "metadata": {
  "kernelspec": {
   "display_name": "Python 3",
   "language": "python",
   "name": "python3"
  },
  "language_info": {
   "codemirror_mode": {
    "name": "ipython",
    "version": 3
   },
   "file_extension": ".py",
   "mimetype": "text/x-python",
   "name": "python",
   "nbconvert_exporter": "python",
   "pygments_lexer": "ipython3",
   "version": "3.7.6"
  }
 },
 "nbformat": 4,
 "nbformat_minor": 2
}
